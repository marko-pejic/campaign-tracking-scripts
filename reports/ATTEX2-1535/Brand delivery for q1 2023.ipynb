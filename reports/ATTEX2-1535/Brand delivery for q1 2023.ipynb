{
 "cells": [
  {
   "cell_type": "code",
   "execution_count": 1,
   "id": "9a865c82",
   "metadata": {},
   "outputs": [],
   "source": [
    "import pandas as pd\n",
    "import numpy as np"
   ]
  },
  {
   "cell_type": "code",
   "execution_count": 2,
   "id": "d25ff281",
   "metadata": {},
   "outputs": [],
   "source": [
    "month = \"03\"\n",
    "impressions_df = pd.read_csv(f\"../../datasets/impressions/2023/odyssey_2023_{month}.csv\")"
   ]
  },
  {
   "cell_type": "code",
   "execution_count": 3,
   "id": "05933ccb",
   "metadata": {},
   "outputs": [],
   "source": [
    "retail = [\"ginatricot\", \"hm\", \"lindex\", \"zalando\", \"zara\"]\n",
    "automotive = [\"mercedes\", \"audi\", \"chevrolet\", \"ford\", \"honda\", \"hyundai\", \"kia\", \"landrover\", \"peugeot\", \"polestar\", \"porsche\", \"rangerover\", \"renault\", \"seat\", \"skoda\", \"subaru\", \"toyota\", \"volkswagen\", \"volvo\"]\n",
    "telecom = [\"telia\", \"comhem\", \"comviq\", \"fello\", \"halebop\", \"hallon\", \"penny\", \"tele2\", \"telenor\", \"tre\", \"vimla\"]"
   ]
  },
  {
   "cell_type": "code",
   "execution_count": 4,
   "id": "6bf3aab0",
   "metadata": {},
   "outputs": [
    {
     "data": {
      "text/plain": [
       "35"
      ]
     },
     "execution_count": 4,
     "metadata": {},
     "output_type": "execute_result"
    }
   ],
   "source": [
    "total = len(telecom) + len(automotive) + len(retail)\n",
    "total"
   ]
  },
  {
   "cell_type": "code",
   "execution_count": 5,
   "id": "5ab9443a",
   "metadata": {},
   "outputs": [],
   "source": [
    "def set_group(row):\n",
    "    if row.brand in telecom:\n",
    "        return \"telecom\"\n",
    "    elif row.brand in automotive:\n",
    "        return \"automotive\"\n",
    "    elif row.brand in retail:\n",
    "        return \"retail\"\n",
    "    return \"other\"\n",
    "    \n",
    "impressions_df[\"group\"] = impressions_df.apply(lambda x: set_group(x), axis=1)"
   ]
  },
  {
   "cell_type": "code",
   "execution_count": 6,
   "id": "caa66b63",
   "metadata": {},
   "outputs": [],
   "source": [
    "impressions_df = impressions_df[impressions_df[\"group\"] != \"other\"]"
   ]
  },
  {
   "cell_type": "code",
   "execution_count": 7,
   "id": "657afeff",
   "metadata": {},
   "outputs": [],
   "source": [
    "import json\n",
    "\n",
    "def extract_pid(placement_id):\n",
    "    try:\n",
    "        placement_id = json.loads(placement_id)\n",
    "    except:\n",
    "        placement_id = {\"tag_id\": [\"\"], \"bam_ad_slot\": []}\n",
    "    bam_ad_slots = placement_id[\"bam_ad_slot\"]\n",
    "    # print(bam_ad_slots)\n",
    "    final_bam_ad_slots = [bas for bas in bam_ad_slots if bas.strip() != '']\n",
    "    ret = ''\n",
    "    try:\n",
    "        ret = placement_id['tag_id'][0]\n",
    "    except:\n",
    "        # print('.')\n",
    "        ret = ','.join([bas for bas in final_bam_ad_slots])\n",
    "    else:\n",
    "        ret += ','.join([bas for bas in final_bam_ad_slots])\n",
    "    return ret\n",
    "    \n",
    "\n",
    "def len_pids(placement_id):\n",
    "    try:\n",
    "        placement_id = json.loads(placement_id)\n",
    "    except:\n",
    "        placement_id = {\"tag_id\": [\"\"], \"bam_ad_slot\": []}\n",
    "    bam_ad_slots = placement_id[\"bam_ad_slot\"]\n",
    "    final_bam_ad_slots = [bas for bas in bam_ad_slots if bas.strip() != '']\n",
    "    return len(placement_id[\"tag_id\"]) + len(final_bam_ad_slots)\n",
    "\n",
    "def pid_type(pid):\n",
    "    try:\n",
    "        int(pid)\n",
    "        return 'int'\n",
    "    except:\n",
    "        return 'str'\n",
    "\n",
    "impressions_df['placement_id_chosen'] = impressions_df['placement_id'].apply(extract_pid)"
   ]
  },
  {
   "cell_type": "code",
   "execution_count": 8,
   "id": "6f7351c7",
   "metadata": {},
   "outputs": [],
   "source": [
    "impressions_df.to_excel(f\"odyssey_2023_{month}.xlsx\", index=False)"
   ]
  },
  {
   "cell_type": "code",
   "execution_count": null,
   "id": "47ee0280",
   "metadata": {},
   "outputs": [],
   "source": []
  }
 ],
 "metadata": {
  "kernelspec": {
   "display_name": "Python 3 (ipykernel)",
   "language": "python",
   "name": "python3"
  },
  "language_info": {
   "codemirror_mode": {
    "name": "ipython",
    "version": 3
   },
   "file_extension": ".py",
   "mimetype": "text/x-python",
   "name": "python",
   "nbconvert_exporter": "python",
   "pygments_lexer": "ipython3",
   "version": "3.10.6"
  }
 },
 "nbformat": 4,
 "nbformat_minor": 5
}
