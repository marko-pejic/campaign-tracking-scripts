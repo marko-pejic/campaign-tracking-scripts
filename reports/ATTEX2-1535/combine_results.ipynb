{
 "cells": [
  {
   "cell_type": "code",
   "execution_count": 1,
   "id": "7662dd1f",
   "metadata": {},
   "outputs": [],
   "source": [
    "import pandas as pd\n",
    "import numpy as np"
   ]
  },
  {
   "cell_type": "code",
   "execution_count": 2,
   "id": "18f4e181",
   "metadata": {},
   "outputs": [],
   "source": [
    "impressions_01 = pd.read_excel(\"./odyssey_2023_01.xlsx\")\n",
    "impressions_02 = pd.read_excel(\"./odyssey_2023_02.xlsx\")\n",
    "impressions_03 = pd.read_excel(\"./odyssey_2023_03.xlsx\")\n",
    "\n",
    "impressions_df = pd.concat([impressions_01, impressions_02, impressions_03])"
   ]
  },
  {
   "cell_type": "code",
   "execution_count": 3,
   "id": "6e6f941e",
   "metadata": {},
   "outputs": [],
   "source": [
    "impressions_df = impressions_df.drop(columns=\"chosen_brand\")"
   ]
  },
  {
   "cell_type": "code",
   "execution_count": 4,
   "id": "9e3b9736",
   "metadata": {},
   "outputs": [],
   "source": [
    "groups = [\"Telecom\", \"Automotive\", \"Retail\"]\n",
    "\n",
    "with pd.ExcelWriter(f\"1535_branded_q1_odyssey.xlsx\") as writer:\n",
    "    for i, group in enumerate(groups):\n",
    "        final_df = impressions_df[impressions_df[\"group\"] == group.lower()]\n",
    "        final_df = final_df.drop(columns=\"group\")\n",
    "        final_df.to_excel(writer, sheet_name=group, index=False)"
   ]
  },
  {
   "cell_type": "code",
   "execution_count": 5,
   "id": "ebddf97f",
   "metadata": {},
   "outputs": [
    {
     "data": {
      "text/plain": [
       "['penny']"
      ]
     },
     "execution_count": 5,
     "metadata": {},
     "output_type": "execute_result"
    }
   ],
   "source": [
    "brands = [\"ginatricot\", \"hm\", \"lindex\", \"zalando\", \"zara\", \"mercedes\", \"audi\", \"chevrolet\", \"ford\", \"honda\", \"hyundai\", \"kia\", \"landrover\", \"peugeot\", \"polestar\", \"porsche\", \"rangerover\", \"renault\", \"seat\", \"skoda\", \"subaru\", \"toyota\", \"volkswagen\", \"volvo\", \"telia\", \"comhem\", \"comviq\", \"fello\", \"halebop\", \"hallon\", \"penny\", \"tele2\", \"telenor\", \"tre\", \"vimla\"]\n",
    "\n",
    "[x for x in brands if x not in list(impressions_df.brand.values)]"
   ]
  },
  {
   "cell_type": "code",
   "execution_count": 6,
   "id": "7e562392",
   "metadata": {},
   "outputs": [
    {
     "data": {
      "text/plain": [
       "34"
      ]
     },
     "execution_count": 6,
     "metadata": {},
     "output_type": "execute_result"
    }
   ],
   "source": [
    "len(impressions_df.brand.value_counts())"
   ]
  },
  {
   "cell_type": "code",
   "execution_count": null,
   "id": "083a4822",
   "metadata": {},
   "outputs": [],
   "source": []
  }
 ],
 "metadata": {
  "kernelspec": {
   "display_name": "Python 3 (ipykernel)",
   "language": "python",
   "name": "python3"
  },
  "language_info": {
   "codemirror_mode": {
    "name": "ipython",
    "version": 3
   },
   "file_extension": ".py",
   "mimetype": "text/x-python",
   "name": "python",
   "nbconvert_exporter": "python",
   "pygments_lexer": "ipython3",
   "version": "3.10.6"
  }
 },
 "nbformat": 4,
 "nbformat_minor": 5
}
