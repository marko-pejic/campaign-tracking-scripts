{
 "cells": [
  {
   "cell_type": "code",
   "execution_count": 1,
   "id": "d14f16ee",
   "metadata": {},
   "outputs": [],
   "source": [
    "import pandas as pd\n",
    "import numpy as np"
   ]
  },
  {
   "cell_type": "code",
   "execution_count": null,
   "id": "4fb2afd3",
   "metadata": {},
   "outputs": [],
   "source": [
    "impressions_01 = pd.read_excel(\"./odyssey_2023_01.xlsx\")\n",
    "impressions_02 = pd.read_excel(\"./odyssey_2023_02.xlsx\")\n",
    "impressions_03 = pd.read_excel(\"./odyssey_2023_03.xlsx\")\n",
    "\n",
    "impressions_df = pd.concat([impressions_01, impressions_02, impressions_03])"
   ]
  },
  {
   "cell_type": "code",
   "execution_count": null,
   "id": "90f0c536",
   "metadata": {},
   "outputs": [],
   "source": [
    "impressions_df = impressions_df.drop(columns=\"chosen_brand\")"
   ]
  },
  {
   "cell_type": "code",
   "execution_count": null,
   "id": "d0f50ef7",
   "metadata": {},
   "outputs": [],
   "source": [
    "groups = [\"Telecom\", \"Automotive\", \"Retail\"]\n",
    "\n",
    "with pd.ExcelWriter(f\"1535_branded_q1_odyssey.xlsx\") as writer:\n",
    "    for i, group in enumerate(groups):\n",
    "        final_df = impressions_df[impressions_df[\"group\"] == group.lower()]\n",
    "        final_df = final_df.drop(columns=\"group\")\n",
    "        final_df.to_excel(writer, sheet_name=group, index=False)"
   ]
  },
  {
   "cell_type": "code",
   "execution_count": null,
   "id": "b2a15a44",
   "metadata": {},
   "outputs": [],
   "source": [
    "brands = [\"ginatricot\", \"hm\", \"lindex\", \"zalando\", \"zara\", \"mercedes\", \"audi\", \"chevrolet\", \"ford\", \"honda\", \"hyundai\", \"kia\", \"landrover\", \"peugeot\", \"polestar\", \"porsche\", \"rangerover\", \"renault\", \"seat\", \"skoda\", \"subaru\", \"toyota\", \"volkswagen\", \"volvo\", \"telia\", \"comhem\", \"comviq\", \"fello\", \"halebop\", \"hallon\", \"penny\", \"tele2\", \"telenor\", \"tre\", \"vimla\"]\n",
    "\n",
    "[x for x in brands if x not in list(impressions_df.brand.values)]"
   ]
  },
  {
   "cell_type": "code",
   "execution_count": null,
   "id": "a2deb13f",
   "metadata": {},
   "outputs": [],
   "source": [
    "len(impressions_df.brand.value_counts())"
   ]
  },
  {
   "cell_type": "code",
   "execution_count": null,
   "id": "fd430178",
   "metadata": {},
   "outputs": [],
   "source": []
  }
 ],
 "metadata": {
  "kernelspec": {
   "display_name": "Python 3 (ipykernel)",
   "language": "python",
   "name": "python3"
  },
  "language_info": {
   "codemirror_mode": {
    "name": "ipython",
    "version": 3
   },
   "file_extension": ".py",
   "mimetype": "text/x-python",
   "name": "python",
   "nbconvert_exporter": "python",
   "pygments_lexer": "ipython3",
   "version": "3.10.6"
  }
 },
 "nbformat": 4,
 "nbformat_minor": 5
}
