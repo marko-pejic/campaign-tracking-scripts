{
 "cells": [
  {
   "cell_type": "code",
   "execution_count": 2,
   "id": "8be10970",
   "metadata": {},
   "outputs": [],
   "source": [
    "import pandas as pd\n",
    "import numpy as np"
   ]
  },
  {
   "cell_type": "code",
   "execution_count": 4,
   "id": "ab85c5cb",
   "metadata": {},
   "outputs": [],
   "source": [
    "impressions = pd.read_excel(\"1535_branded_q1_odyssey.xlsx\")"
   ]
  },
  {
   "cell_type": "code",
   "execution_count": 7,
   "id": "3dc8dfb9",
   "metadata": {},
   "outputs": [],
   "source": [
    "import json\n",
    "\n",
    "def extract_pid(placement_id):\n",
    "    try:\n",
    "        placement_id = json.loads(placement_id)\n",
    "    except:\n",
    "        placement_id = {\"tag_id\": [\"\"], \"bam_ad_slot\": []}\n",
    "    bam_ad_slots = placement_id[\"bam_ad_slot\"]\n",
    "    # print(bam_ad_slots)\n",
    "    final_bam_ad_slots = [bas for bas in bam_ad_slots if bas.strip() != '']\n",
    "    ret = ''\n",
    "    try:\n",
    "        ret = placement_id['tag_id'][0]\n",
    "    except:\n",
    "        # print('.')\n",
    "        ret = ','.join([bas for bas in final_bam_ad_slots])\n",
    "    else:\n",
    "        ret += ','.join([bas for bas in final_bam_ad_slots])\n",
    "    return ret\n",
    "    \n",
    "\n",
    "def len_pids(placement_id):\n",
    "    try:\n",
    "        placement_id = json.loads(placement_id)\n",
    "    except:\n",
    "        placement_id = {\"tag_id\": [\"\"], \"bam_ad_slot\": []}\n",
    "    bam_ad_slots = placement_id[\"bam_ad_slot\"]\n",
    "    final_bam_ad_slots = [bas for bas in bam_ad_slots if bas.strip() != '']\n",
    "    return len(placement_id[\"tag_id\"]) + len(final_bam_ad_slots)\n",
    "\n",
    "def pid_type(pid):\n",
    "    try:\n",
    "        int(pid)\n",
    "        return 'int'\n",
    "    except:\n",
    "        return 'str'\n",
    "\n",
    "impressions['placement_id_chosen'] = impressions['placement_id'].apply(extract_pid)"
   ]
  },
  {
   "cell_type": "code",
   "execution_count": 9,
   "id": "1cf5b67a",
   "metadata": {},
   "outputs": [
    {
     "data": {
      "text/plain": [
       "array(['', '', '', ..., '', '19499428', ''], dtype=object)"
      ]
     },
     "execution_count": 9,
     "metadata": {},
     "output_type": "execute_result"
    }
   ],
   "source": [
    "impressions['placement_id_chosen'].values"
   ]
  }
 ],
 "metadata": {
  "kernelspec": {
   "display_name": "Python 3 (ipykernel)",
   "language": "python",
   "name": "python3"
  },
  "language_info": {
   "codemirror_mode": {
    "name": "ipython",
    "version": 3
   },
   "file_extension": ".py",
   "mimetype": "text/x-python",
   "name": "python",
   "nbconvert_exporter": "python",
   "pygments_lexer": "ipython3",
   "version": "3.10.6"
  }
 },
 "nbformat": 4,
 "nbformat_minor": 5
}
