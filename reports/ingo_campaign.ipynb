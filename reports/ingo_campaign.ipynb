{
 "cells": [
  {
   "cell_type": "code",
   "execution_count": null,
   "id": "9d5a7821",
   "metadata": {},
   "outputs": [],
   "source": [
    "import pandas as pd\n",
    "import numpy as np"
   ]
  },
  {
   "cell_type": "code",
   "execution_count": null,
   "id": "b8f59d55",
   "metadata": {},
   "outputs": [],
   "source": [
    "client_df = pd.read_excel(\"../datasets/ingo_campaign_report-2023-03-27T162131.802.xlsx\")\n",
    "impressions_df = pd.read_csv(\"../datasets/impressions/2023/impressions_q1.csv\")"
   ]
  },
  {
   "cell_type": "code",
   "execution_count": null,
   "id": "52e32b22",
   "metadata": {},
   "outputs": [],
   "source": [
    "# run through predictions\n",
    "import os\n",
    "import json\n",
    "\n",
    "\n",
    "def _get_pred_map():\n",
    "    pred_map = dict()\n",
    "    \n",
    "    for i in range(1, 3):\n",
    "        if i < 10:\n",
    "            i = f'0{i}'\n",
    "        for day in os.listdir(f'../predictions/2023/{i}'):\n",
    "            for h in os.listdir(f'../predictions/2023/{i}/{day}'):\n",
    "                if not h.endswith('.ndjson'):\n",
    "                    continue\n",
    "                with open(f'../predictions/2023/{i}/{day}/{h}')as f:\n",
    "                    for line in f.readlines():\n",
    "                        json_line = json.loads(line)\n",
    "                        id_ = json_line['id']\n",
    "                        pred_map[id_] = json_line['prediction']\n",
    "    return pred_map\n",
    "                            \n",
    "pred_map = _get_pred_map()"
   ]
  },
  {
   "cell_type": "code",
   "execution_count": null,
   "id": "ffe1c896",
   "metadata": {},
   "outputs": [],
   "source": [
    "import json\n",
    "\n",
    "def extract_pid(placement_ids):\n",
    "    try:\n",
    "        placement_id = int(json.loads(placement_ids)[0])\n",
    "    except ValueError:\n",
    "        return placement_ids\n",
    "        \n",
    "    return placement_id\n",
    "\n",
    "def extract_pid_type(placement_id):\n",
    "    try:\n",
    "        int(placement_id)\n",
    "    except ValueError:\n",
    "        r_type = \"str\"\n",
    "    else:\n",
    "        r_type = \"int\"\n",
    "    return r_type\n",
    "\n",
    "impressions_df[\"pid\"] = impressions_df[\"placement_id_chosen\"].apply(extract_pid)\n",
    "impressions_df[\"pid_type\"] = impressions_df[\"pid\"].apply(extract_pid_type)"
   ]
  },
  {
   "cell_type": "code",
   "execution_count": null,
   "id": "e8b7d6c3",
   "metadata": {
    "scrolled": false
   },
   "outputs": [],
   "source": [
    "# Only select pids from client list\n",
    "impressions_df = impressions_df[impressions_df[\"pid\"].isin(list(client_df[\"Placement Id\"]))]\n",
    "impressions_df"
   ]
  },
  {
   "cell_type": "code",
   "execution_count": null,
   "id": "be7fea39",
   "metadata": {},
   "outputs": [],
   "source": [
    "impressions_df[\"true_is_iab_inview\"] = impressions_df.apply(\n",
    "    lambda x: \n",
    "    True if (\n",
    "        (x[\"ad_technical_format\"] == \"out-stream\") & (x[\"exist_viewable_1_s_threshold_50\"] == True) & (x[\"exist_viewable_2_s_threshold_50\"] == False)\n",
    "    ) | (x[\"is_iab_inview\"] == True) \n",
    "    else False, \n",
    "    axis=1\n",
    ")"
   ]
  },
  {
   "cell_type": "code",
   "execution_count": null,
   "id": "18341956",
   "metadata": {},
   "outputs": [],
   "source": [
    "def _get_final_fixation(gaze_valid, is_fixated, is_iab_inview, id_, pred_map):\n",
    "    if gaze_valid and is_iab_inview:\n",
    "        return is_fixated\n",
    "    if id_ in pred_map and is_iab_inview:\n",
    "        return pred_map[id_]\n",
    "    return False\n",
    "\n",
    "impressions_df['final_fixation'] = impressions_df.apply(lambda row: _get_final_fixation(row['gaze_valid'], row['is_fixated'], row['true_is_iab_inview'], row['id'], pred_map), axis=1)\n",
    "#impressions_df"
   ]
  },
  {
   "cell_type": "code",
   "execution_count": null,
   "id": "6b0302a3",
   "metadata": {},
   "outputs": [],
   "source": [
    "grouped_df = impressions_df.groupby([\"hostname\", \"pid\"]).apply(\n",
    "    lambda x: pd.Series(\n",
    "        {\n",
    "            \"num_impressions\": x[\"id\"].count(),\n",
    "            \"num_fixations\": x[x[\"final_fixation\"] == True][\"id\"].count(),\n",
    "            \"num_is_iab_inview\": x[x[\"true_is_iab_inview\"] == True][\"id\"].count()\n",
    "        }\n",
    "    )\n",
    ")\n",
    "grouped_df = grouped_df.reset_index()\n",
    "grouped_df"
   ]
  },
  {
   "cell_type": "code",
   "execution_count": null,
   "id": "3f2cb39a",
   "metadata": {
    "scrolled": true
   },
   "outputs": [],
   "source": [
    "grouped_df[\"fixation_ratio_%\"] = round(grouped_df[\"num_fixations\"] / grouped_df[\"num_impressions\"] * 100, 2)\n",
    "grouped_df[\"inview_fixation_ratio_%\"] = round(grouped_df[\"num_fixations\"] / grouped_df[\"num_is_iab_inview\"] * 100, 1)\n",
    "grouped_df[\"inview_fixation_ratio_%\"] = grouped_df[\"inview_fixation_ratio_%\"].fillna(0)\n",
    "grouped_df"
   ]
  },
  {
   "cell_type": "code",
   "execution_count": null,
   "id": "d5cd7c2b",
   "metadata": {},
   "outputs": [],
   "source": [
    "final_df = grouped_df[[\"hostname\", \"pid\", \"num_impressions\", \"fixation_ratio_%\", \"inview_fixation_ratio_%\"]]\n",
    "final_df = final_df.rename(columns={\"pid\": \"Placement Id\", \"num_impressions\": \"Impressions\"})\n",
    "final_df.to_excel(\"../final_reports/ingo_campaign_fixations.xlsx\", index=False)"
   ]
  }
 ],
 "metadata": {
  "kernelspec": {
   "display_name": "Python 3 (ipykernel)",
   "language": "python",
   "name": "python3"
  },
  "language_info": {
   "codemirror_mode": {
    "name": "ipython",
    "version": 3
   },
   "file_extension": ".py",
   "mimetype": "text/x-python",
   "name": "python",
   "nbconvert_exporter": "python",
   "pygments_lexer": "ipython3",
   "version": "3.10.12"
  }
 },
 "nbformat": 4,
 "nbformat_minor": 5
}
