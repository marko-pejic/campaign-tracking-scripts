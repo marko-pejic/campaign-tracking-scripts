{
 "cells": [
  {
   "cell_type": "code",
   "execution_count": 39,
   "id": "32db0f7b",
   "metadata": {},
   "outputs": [],
   "source": [
    "import pandas as pd\n",
    "import numpy as np"
   ]
  },
  {
   "cell_type": "code",
   "execution_count": 40,
   "id": "09d073c6",
   "metadata": {},
   "outputs": [
    {
     "data": {
      "text/html": [
       "<div>\n",
       "<style scoped>\n",
       "    .dataframe tbody tr th:only-of-type {\n",
       "        vertical-align: middle;\n",
       "    }\n",
       "\n",
       "    .dataframe tbody tr th {\n",
       "        vertical-align: top;\n",
       "    }\n",
       "\n",
       "    .dataframe thead th {\n",
       "        text-align: right;\n",
       "    }\n",
       "</style>\n",
       "<table border=\"1\" class=\"dataframe\">\n",
       "  <thead>\n",
       "    <tr style=\"text-align: right;\">\n",
       "      <th></th>\n",
       "      <th>hostname</th>\n",
       "      <th>Impressions</th>\n",
       "      <th>Inviews</th>\n",
       "      <th>Fixations</th>\n",
       "      <th>Fixation/Inview Ratio</th>\n",
       "      <th>Average Fixation Duration</th>\n",
       "      <th>Total Fixation Duration</th>\n",
       "      <th>Sample Size</th>\n",
       "    </tr>\n",
       "  </thead>\n",
       "  <tbody>\n",
       "    <tr>\n",
       "      <th>0</th>\n",
       "      <td>aftonbladet.se</td>\n",
       "      <td>1570562</td>\n",
       "      <td>1146130</td>\n",
       "      <td>378274</td>\n",
       "      <td>33.00</td>\n",
       "      <td>1124</td>\n",
       "      <td>425179976</td>\n",
       "      <td>medium</td>\n",
       "    </tr>\n",
       "    <tr>\n",
       "      <th>1</th>\n",
       "      <td>bloggar.aftonbladet.se</td>\n",
       "      <td>79122</td>\n",
       "      <td>52807</td>\n",
       "      <td>0</td>\n",
       "      <td>0.00</td>\n",
       "      <td>0</td>\n",
       "      <td>0</td>\n",
       "      <td>low</td>\n",
       "    </tr>\n",
       "    <tr>\n",
       "      <th>2</th>\n",
       "      <td>klart.se</td>\n",
       "      <td>4054</td>\n",
       "      <td>2308</td>\n",
       "      <td>833</td>\n",
       "      <td>36.09</td>\n",
       "      <td>2454</td>\n",
       "      <td>2044182</td>\n",
       "      <td>low</td>\n",
       "    </tr>\n",
       "    <tr>\n",
       "      <th>3</th>\n",
       "      <td>malservice.aftonbladet.se</td>\n",
       "      <td>5</td>\n",
       "      <td>3</td>\n",
       "      <td>1</td>\n",
       "      <td>33.33</td>\n",
       "      <td>503</td>\n",
       "      <td>503</td>\n",
       "      <td>low</td>\n",
       "    </tr>\n",
       "    <tr>\n",
       "      <th>4</th>\n",
       "      <td>svd.se</td>\n",
       "      <td>19702</td>\n",
       "      <td>15050</td>\n",
       "      <td>3962</td>\n",
       "      <td>26.33</td>\n",
       "      <td>4651</td>\n",
       "      <td>18427262</td>\n",
       "      <td>medium</td>\n",
       "    </tr>\n",
       "    <tr>\n",
       "      <th>5</th>\n",
       "      <td>tv.nu</td>\n",
       "      <td>12491</td>\n",
       "      <td>8122</td>\n",
       "      <td>2738</td>\n",
       "      <td>33.71</td>\n",
       "      <td>1234</td>\n",
       "      <td>3378692</td>\n",
       "      <td>medium</td>\n",
       "    </tr>\n",
       "  </tbody>\n",
       "</table>\n",
       "</div>"
      ],
      "text/plain": [
       "                    hostname  Impressions  Inviews  Fixations  \\\n",
       "0             aftonbladet.se      1570562  1146130     378274   \n",
       "1     bloggar.aftonbladet.se        79122    52807          0   \n",
       "2                   klart.se         4054     2308        833   \n",
       "3  malservice.aftonbladet.se            5        3          1   \n",
       "4                     svd.se        19702    15050       3962   \n",
       "5                      tv.nu        12491     8122       2738   \n",
       "\n",
       "   Fixation/Inview Ratio  Average Fixation Duration  Total Fixation Duration  \\\n",
       "0                  33.00                       1124                425179976   \n",
       "1                   0.00                          0                        0   \n",
       "2                  36.09                       2454                  2044182   \n",
       "3                  33.33                        503                      503   \n",
       "4                  26.33                       4651                 18427262   \n",
       "5                  33.71                       1234                  3378692   \n",
       "\n",
       "  Sample Size  \n",
       "0      medium  \n",
       "1         low  \n",
       "2         low  \n",
       "3         low  \n",
       "4      medium  \n",
       "5      medium  "
      ]
     },
     "execution_count": 40,
     "metadata": {},
     "output_type": "execute_result"
    }
   ],
   "source": [
    "client = \"länsförsäkringar\"\n",
    "df = pd.read_excel(f\"../temp/{client}_results.xlsx\", sheet_name=client.title())\n",
    "df"
   ]
  },
  {
   "cell_type": "code",
   "execution_count": 41,
   "id": "262e3a15",
   "metadata": {},
   "outputs": [
    {
     "name": "stderr",
     "output_type": "stream",
     "text": [
      "/tmp/ipykernel_11016/497368128.py:2: SettingWithCopyWarning: \n",
      "A value is trying to be set on a copy of a slice from a DataFrame.\n",
      "Try using .loc[row_indexer,col_indexer] = value instead\n",
      "\n",
      "See the caveats in the documentation: https://pandas.pydata.org/pandas-docs/stable/user_guide/indexing.html#returning-a-view-versus-a-copy\n",
      "  df[\"group\"] = 1\n"
     ]
    }
   ],
   "source": [
    "df = df[df[\"Sample Size\"].isin([\"high\", \"medium\"])]\n",
    "df[\"group\"] = 1"
   ]
  },
  {
   "cell_type": "code",
   "execution_count": 42,
   "id": "1c4c12f3",
   "metadata": {},
   "outputs": [
    {
     "data": {
      "text/html": [
       "<div>\n",
       "<style scoped>\n",
       "    .dataframe tbody tr th:only-of-type {\n",
       "        vertical-align: middle;\n",
       "    }\n",
       "\n",
       "    .dataframe tbody tr th {\n",
       "        vertical-align: top;\n",
       "    }\n",
       "\n",
       "    .dataframe thead th {\n",
       "        text-align: right;\n",
       "    }\n",
       "</style>\n",
       "<table border=\"1\" class=\"dataframe\">\n",
       "  <thead>\n",
       "    <tr style=\"text-align: right;\">\n",
       "      <th></th>\n",
       "      <th>group</th>\n",
       "      <th>Impressions</th>\n",
       "      <th>Inviews</th>\n",
       "      <th>Fixations</th>\n",
       "      <th>Fixation/Inview Ratio</th>\n",
       "      <th>Average Fixation Duration</th>\n",
       "      <th>Total Fixation Duration</th>\n",
       "    </tr>\n",
       "  </thead>\n",
       "  <tbody>\n",
       "    <tr>\n",
       "      <th>0</th>\n",
       "      <td>1</td>\n",
       "      <td>1539355.0</td>\n",
       "      <td>1123667.0</td>\n",
       "      <td>371750.0</td>\n",
       "      <td>32.92</td>\n",
       "      <td>1161.0</td>\n",
       "      <td>431631797.0</td>\n",
       "    </tr>\n",
       "  </tbody>\n",
       "</table>\n",
       "</div>"
      ],
      "text/plain": [
       "   group  Impressions    Inviews  Fixations  Fixation/Inview Ratio  \\\n",
       "0      1    1539355.0  1123667.0   371750.0                  32.92   \n",
       "\n",
       "   Average Fixation Duration  Total Fixation Duration  \n",
       "0                     1161.0              431631797.0  "
      ]
     },
     "execution_count": 42,
     "metadata": {},
     "output_type": "execute_result"
    }
   ],
   "source": [
    "final_df = df.groupby([\"group\"]).apply(\n",
    "    lambda x: pd.Series(\n",
    "        {\n",
    "            \"Impressions\": np.floor(np.average(x[\"Impressions\"], weights=x[\"Impressions\"])),\n",
    "            \"Inviews\": np.floor(np.average(x[\"Inviews\"], weights=x[\"Inviews\"])),\n",
    "            \"Fixations\": np.floor(np.average(x[\"Fixations\"], weights=x[\"Fixations\"])),\n",
    "            \"Fixation/Inview Ratio\": round(np.average(x[\"Fixation/Inview Ratio\"], weights=x[\"Impressions\"]), 2),\n",
    "            \"Average Fixation Duration\": np.floor(np.average(x[\"Average Fixation Duration\"], weights=x[\"Fixations\"])),\n",
    "            \"Total Fixation Duration\": np.floor(np.average(x[\"Average Fixation Duration\"], weights=x[\"Fixations\"]) *  np.floor(np.average(x[\"Fixations\"], weights=x[\"Fixations\"])))\n",
    "        }\n",
    "    )\n",
    ")\n",
    "final_df = final_df.reset_index()\n",
    "final_df"
   ]
  },
  {
   "cell_type": "code",
   "execution_count": 43,
   "id": "00505a0c",
   "metadata": {},
   "outputs": [],
   "source": [
    "final_df = final_df[[\"Impressions\", \"Inviews\", \"Fixations\", \"Fixation/Inview Ratio\", \"Average Fixation Duration\", \"Total Fixation Duration\"]]\n",
    "\n",
    "final_df.to_excel(f\"../temp/{client}_results_consolidated.xlsx\", index=False)"
   ]
  }
 ],
 "metadata": {
  "kernelspec": {
   "display_name": "Python 3 (ipykernel)",
   "language": "python",
   "name": "python3"
  },
  "language_info": {
   "codemirror_mode": {
    "name": "ipython",
    "version": 3
   },
   "file_extension": ".py",
   "mimetype": "text/x-python",
   "name": "python",
   "nbconvert_exporter": "python",
   "pygments_lexer": "ipython3",
   "version": "3.10.12"
  }
 },
 "nbformat": 4,
 "nbformat_minor": 5
}
