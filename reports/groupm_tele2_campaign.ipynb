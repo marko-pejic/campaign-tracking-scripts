{
 "cells": [
  {
   "cell_type": "code",
   "execution_count": null,
   "id": "0a52b420",
   "metadata": {},
   "outputs": [],
   "source": [
    "import pandas as pd\n",
    "import numpy as np\n",
    "import math"
   ]
  },
  {
   "cell_type": "code",
   "execution_count": null,
   "id": "20933c11",
   "metadata": {},
   "outputs": [],
   "source": [
    "impressions_df = pd.read_csv(\"../datasets/impressions/impressions_groupm_tele2_6_months.csv\")"
   ]
  },
  {
   "cell_type": "code",
   "execution_count": null,
   "id": "5cccc2e9",
   "metadata": {
    "scrolled": true
   },
   "outputs": [],
   "source": [
    "client_df = pd.read_excel(\"../datasets/groupm_tele2_report.xlsx\")\n",
    "client_df"
   ]
  },
  {
   "cell_type": "code",
   "execution_count": null,
   "id": "2c4e5cb0",
   "metadata": {},
   "outputs": [],
   "source": [
    "import json\n",
    "\n",
    "def extract_pid(placement_id):\n",
    "    placement_id = json.loads(placement_id)\n",
    "    bam_ad_slots = placement_id[\"bam_ad_slot\"]\n",
    "    final_bam_ad_slots = [bas for bas in bam_ad_slots if bas.strip() != '']\n",
    "    try:\n",
    "        ret = placement_id['tag_id'][0]\n",
    "    except:\n",
    "        return\n",
    "    ret += ','.join([bas for bas in final_bam_ad_slots])\n",
    "    return ret\n",
    "\n",
    "def pid_type(pid):\n",
    "    try:\n",
    "        int(pid)\n",
    "        return 'int'\n",
    "    except:\n",
    "        return 'str'\n",
    "\n",
    "impressions_df['pid'] = impressions_df['placement_ids'].apply(extract_pid)\n",
    "impressions_df['pid_type'] = impressions_df['pid'].apply(pid_type)"
   ]
  },
  {
   "cell_type": "code",
   "execution_count": null,
   "id": "80d1e9c0",
   "metadata": {},
   "outputs": [],
   "source": [
    "# run through predictions\n",
    "import os\n",
    "import json\n",
    "\n",
    "\n",
    "def _get_pred_map():\n",
    "    pred_map = dict()\n",
    "    for _i in range(1,2):\n",
    "        if _i == 1:\n",
    "            _year = 2022\n",
    "            _range1 = 11\n",
    "            _range2 = 13\n",
    "        else:\n",
    "            _year = 2023\n",
    "            _range1 = 1\n",
    "            _range2 = 4\n",
    "        for i in range(_range1, _range2):\n",
    "            if i < 10:\n",
    "                i = f'0{i}'\n",
    "            for day in os.listdir(f'../predictions/{_year}/{i}'):\n",
    "                for h in os.listdir(f'../predictions/{_year}/{i}/{day}'):\n",
    "                    if not h.endswith('.ndjson'):\n",
    "                        continue\n",
    "                    with open(f'../predictions/{_year}/{i}/{day}/{h}')as f:\n",
    "                        for line in f.readlines():\n",
    "                            json_line = json.loads(line)\n",
    "                            id_ = json_line['id']\n",
    "                            pred_map[id_] = json_line['prediction']\n",
    "    return pred_map\n",
    "                            \n",
    "pred_map = _get_pred_map()"
   ]
  },
  {
   "cell_type": "code",
   "execution_count": null,
   "id": "df8b448d",
   "metadata": {
    "scrolled": true
   },
   "outputs": [],
   "source": [
    "impressions_df = impressions_df[impressions_df[\"pid_type\"] == 'int']\n",
    "impressions_df['pid'] = impressions_df['pid'].apply(lambda pid: int(pid))\n",
    "impressions_df"
   ]
  },
  {
   "cell_type": "code",
   "execution_count": null,
   "id": "f0f39c52",
   "metadata": {
    "scrolled": true
   },
   "outputs": [],
   "source": [
    "tele2_placements = list(client_df['Placement Id'].unique())\n",
    "tele2_impressions = impressions_df[impressions_df['pid'].isin(tele2_placements)]\n",
    "tele2_impressions"
   ]
  },
  {
   "cell_type": "code",
   "execution_count": null,
   "id": "aca81408",
   "metadata": {},
   "outputs": [],
   "source": [
    "def _get_final_fixation(gaze_valid, is_fixated, id_, pred_map):\n",
    "    if gaze_valid:\n",
    "        return is_fixated\n",
    "    if id_ in pred_map:\n",
    "        return pred_map[id_]\n",
    "    return False\n",
    "\n",
    "tele2_impressions['final_fixation'] = tele2_impressions.apply(lambda row: _get_final_fixation(row['gaze_valid'], row['is_fixated'], row['id'], pred_map), axis=1)"
   ]
  },
  {
   "cell_type": "code",
   "execution_count": null,
   "id": "a19a4b1e",
   "metadata": {},
   "outputs": [],
   "source": [
    "grouped_df = tele2_impressions.groupby([\"pid\"]).apply(\n",
    "    lambda row: pd.Series(\n",
    "        {\n",
    "            \"num_impressions\": row[\"id\"].count(),\n",
    "            \"num_fixations\": row[row[\"final_fixation\"] == True][\"id\"].count(),\n",
    "        }\n",
    "    )\n",
    ")\n",
    "grouped_df = grouped_df.reset_index()\n",
    "grouped_df"
   ]
  },
  {
   "cell_type": "code",
   "execution_count": null,
   "id": "b70e9bc3",
   "metadata": {},
   "outputs": [],
   "source": [
    "client_df_grouped = client_df.groupby([\"domain\", \"Placement Id\"]).apply(\n",
    "    lambda x: pd.Series(\n",
    "        {\n",
    "            \"num_imps\": np.sum(x[\"Imps\"])\n",
    "        }\n",
    "    )\n",
    ")\n",
    "client_df_grouped = client_df_grouped.reset_index()\n",
    "client_df_grouped"
   ]
  },
  {
   "cell_type": "code",
   "execution_count": null,
   "id": "3c49d1f2",
   "metadata": {},
   "outputs": [],
   "source": [
    "merged_df = pd.merge(grouped_df, client_df_grouped, how='outer', left_on=['pid'], right_on=['Placement Id'])\n",
    "merged_df"
   ]
  },
  {
   "cell_type": "code",
   "execution_count": null,
   "id": "1e428d4b",
   "metadata": {},
   "outputs": [],
   "source": [
    "def get_sample_size(num_impressions):\n",
    "    if np.isnan(num_impressions):\n",
    "        return \"N/A\"\n",
    "    if num_impressions <= 20:\n",
    "        return \"low\"\n",
    "    elif num_impressions > 20 and num_impressions <= 100:\n",
    "        return \"medium\"\n",
    "    else:\n",
    "        return \"high\"\n",
    "    \n",
    "def get_weight(x):\n",
    "    if x == \"high\":\n",
    "        return 1\n",
    "    elif x == \"medium\":\n",
    "        return 0.7\n",
    "    elif x == \"low\":\n",
    "        return 0.5\n",
    "    else:\n",
    "        return None\n",
    "    \n",
    "merged_df['sample_size'] = merged_df['num_impressions'].apply(lambda num_impressions: get_sample_size(num_impressions))\n",
    "merged_df[\"weight\"] = merged_df[\"sample_size\"].apply(lambda x: get_weight(x))\n",
    "\n",
    "merged_df"
   ]
  },
  {
   "cell_type": "code",
   "execution_count": null,
   "id": "f871207f",
   "metadata": {
    "scrolled": false
   },
   "outputs": [],
   "source": [
    "merged_df = merged_df.dropna(subset=[\"num_imps\"])\n",
    "merged_df = merged_df.dropna(subset=[\"num_impressions\"])\n",
    "merged_df[\"fix_ratio\"] = round(merged_df[\"num_fixations\"] / merged_df[\"num_impressions\"], 2)\n",
    "merged_df[\"client_fixations\"] = merged_df.apply(lambda x: math.floor(x[\"fix_ratio\"] * x[\"num_imps\"] * x[\"weight\"]), axis=1)\n",
    "merged_df"
   ]
  },
  {
   "cell_type": "code",
   "execution_count": null,
   "id": "0078a3dc",
   "metadata": {
    "scrolled": true
   },
   "outputs": [],
   "source": [
    "grouped_df = merged_df.groupby([\"domain\", \"pid\"]).apply(\n",
    "    lambda x: pd.Series(\n",
    "        {\n",
    "            \"sum_imp\": x[\"num_impressions\"].sum(),\n",
    "            \"sum_imp_client\": x[\"num_imps\"].sum(),\n",
    "            \"sum_fixations\": x[\"num_fixations\"].sum(),\n",
    "            \"sum_fixations_client\": x[\"client_fixations\"].sum(),\n",
    "            \"avg_weight\": np.average(x[\"weight\"]),\n",
    "        }\n",
    "    )\n",
    ")\n",
    "grouped_df"
   ]
  },
  {
   "cell_type": "code",
   "execution_count": null,
   "id": "e1e3bc33",
   "metadata": {},
   "outputs": [],
   "source": [
    "result_df = grouped_df.groupby([\"domain\"]).apply(\n",
    "    lambda x: pd.Series(\n",
    "        {\n",
    "            \"weight\": np.average(x[\"avg_weight\"]),\n",
    "            \"impressions\": x[\"sum_imp\"].sum(),\n",
    "            \"impressions_client\": x[\"sum_imp_client\"].sum(),\n",
    "            \"fixations\": x[\"sum_fixations_client\"].sum()\n",
    "        }\n",
    "    )\n",
    ")\n",
    "result_df[\"fixation_ratio\"] = round(result_df[\"fixations\"] / result_df[\"impressions_client\"] * 100, 2)\n",
    "result_df[\"sample_size\"] = result_df[\"impressions\"].apply(lambda x: get_sample_size(x))\n",
    "result_df = result_df.reset_index()\n",
    "result_df = result_df.sort_values(by=[\"impressions_client\"], ascending=False)\n",
    "final_df = result_df[[\"domain\", \"impressions_client\", \"fixations\", \"fixation_ratio\", \"sample_size\"]]\n",
    "final_df = final_df.rename(columns={\"impressions_client\": \"impressions\"})\n",
    "final_df.to_excel(\"../final_reports/tele2_groupm_campaign.xlsx\", index=False)"
   ]
  },
  {
   "cell_type": "code",
   "execution_count": null,
   "id": "53dc8a3a",
   "metadata": {},
   "outputs": [],
   "source": [
    "round(new_final_df[\"fixations\"].sum() / new_final_df[\"impressions\"].sum() * 100, 2)"
   ]
  }
 ],
 "metadata": {
  "kernelspec": {
   "display_name": "Python 3 (ipykernel)",
   "language": "python",
   "name": "python3"
  },
  "language_info": {
   "codemirror_mode": {
    "name": "ipython",
    "version": 3
   },
   "file_extension": ".py",
   "mimetype": "text/x-python",
   "name": "python",
   "nbconvert_exporter": "python",
   "pygments_lexer": "ipython3",
   "version": "3.10.6"
  }
 },
 "nbformat": 4,
 "nbformat_minor": 5
}
