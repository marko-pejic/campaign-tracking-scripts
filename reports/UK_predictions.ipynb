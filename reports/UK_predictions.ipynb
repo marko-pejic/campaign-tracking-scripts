{
 "cells": [
  {
   "cell_type": "code",
   "execution_count": 3,
   "id": "28260ff2",
   "metadata": {},
   "outputs": [],
   "source": [
    "import pandas as pd\n",
    "import numpy as np"
   ]
  },
  {
   "cell_type": "code",
   "execution_count": 4,
   "id": "7879f382",
   "metadata": {},
   "outputs": [],
   "source": [
    "impressions_df_01 = pd.read_csv('/home/sk2159/Downloads/c48cb4cb-46c9-48ae-b2fd-df2ff244fbc8.csv')\n",
    "impressions_df_02 = pd.read_csv('/home/sk2159/Downloads/6981025e-b785-43a4-8856-12fe16495a4e.csv')\n",
    "impressions_df_03 = pd.read_csv('/home/sk2159/Downloads/fbdbbe06-bca3-40b9-a85b-0aa494544754.csv')\n",
    "\n",
    "impressions = [impressions_df_01, impressions_df_02, impressions_df_03]\n",
    "\n",
    "# impressions_df = pd.concat([impressions_df_01, impressions_df_02, impressions_df_03])"
   ]
  },
  {
   "cell_type": "code",
   "execution_count": 5,
   "id": "805678e5",
   "metadata": {},
   "outputs": [],
   "source": [
    "for impressions_df in impressions\n",
    "    impressions_df[\"true_is_iab_inview\"] = impressions_df.apply(\n",
    "        lambda x: \n",
    "        True if (\n",
    "            (x[\"ad_technical_format\"] == \"out-stream\") & (x[\"exist_viewable_1_s_threshold_50\"] == True) & (x[\"exist_viewable_2_s_threshold_50\"] == False)\n",
    "        ) | (x[\"is_iab_inview\"] == True) \n",
    "        else False, \n",
    "        axis=1\n",
    "    )"
   ]
  },
  {
   "cell_type": "code",
   "execution_count": 6,
   "id": "6c334671",
   "metadata": {},
   "outputs": [],
   "source": [
    "# run through predictions for 2022\n",
    "import os\n",
    "import json\n",
    "\n",
    "def _get_pred_map():\n",
    "    pred_map = dict()\n",
    "    \n",
    "    #for i in range(1, 7):\n",
    "    #for i in range(7, 13):\n",
    "    for i in range(1, 4):\n",
    "        if i < 10:\n",
    "            i = f'0{i}'\n",
    "        for day in os.listdir(f'../predictions/2023/{i}'):\n",
    "            for h in os.listdir(f'../predictions/2023/{i}/{day}'):\n",
    "                if not h.endswith('.ndjson'):\n",
    "                    continue\n",
    "                with open(f'../predictions/2023/{i}/{day}/{h}')as f:\n",
    "                    for line in f.readlines():\n",
    "                        json_line = json.loads(line)\n",
    "                        id_ = json_line['id']\n",
    "                        pred_map[id_] = json_line['prediction']\n",
    "    return pred_map\n",
    "                            \n",
    "pred_map = _get_pred_map()"
   ]
  },
  {
   "cell_type": "code",
   "execution_count": 7,
   "id": "c25439a9",
   "metadata": {},
   "outputs": [],
   "source": [
    "def _get_final_fixation(is_iab_inview, gaze_valid, is_fixated, id_, pred_map):\n",
    "    \"\"\"\n",
    "    Do we need to remove \n",
    "        gaze_valid = True (eyetracker configured/enabled)\n",
    "        is_fixated = True (gaze cordinates and ad overlap)\n",
    "        is_iab_inview = False (example, only 40% of ad is visable)\n",
    "    \"\"\"\n",
    "    if gaze_valid:\n",
    "        return is_fixated\n",
    "    if id_ in pred_map:# and is_iab_inview:\n",
    "        return pred_map[id_]\n",
    "    return False\n",
    "\n",
    "\n",
    "impressions_df['final_fixation'] = impressions_df.apply(lambda row: _get_final_fixation(row['true_is_iab_inview'], row['gaze_valid'], row['is_fixated'], row['id'], pred_map), axis=1)"
   ]
  },
  {
   "cell_type": "code",
   "execution_count": 12,
   "id": "06fad9f3",
   "metadata": {
    "scrolled": true
   },
   "outputs": [
    {
     "data": {
      "text/html": [
       "<div>\n",
       "<style scoped>\n",
       "    .dataframe tbody tr th:only-of-type {\n",
       "        vertical-align: middle;\n",
       "    }\n",
       "\n",
       "    .dataframe tbody tr th {\n",
       "        vertical-align: top;\n",
       "    }\n",
       "\n",
       "    .dataframe thead th {\n",
       "        text-align: right;\n",
       "    }\n",
       "</style>\n",
       "<table border=\"1\" class=\"dataframe\">\n",
       "  <thead>\n",
       "    <tr style=\"text-align: right;\">\n",
       "      <th></th>\n",
       "      <th>part_month</th>\n",
       "      <th>impressions</th>\n",
       "      <th>fixations (no predictions)</th>\n",
       "      <th>fixations (predictions)</th>\n",
       "    </tr>\n",
       "  </thead>\n",
       "  <tbody>\n",
       "    <tr>\n",
       "      <th>0</th>\n",
       "      <td>1</td>\n",
       "      <td>390444</td>\n",
       "      <td>26973</td>\n",
       "      <td>41418</td>\n",
       "    </tr>\n",
       "    <tr>\n",
       "      <th>1</th>\n",
       "      <td>2</td>\n",
       "      <td>365605</td>\n",
       "      <td>24184</td>\n",
       "      <td>36455</td>\n",
       "    </tr>\n",
       "    <tr>\n",
       "      <th>2</th>\n",
       "      <td>3</td>\n",
       "      <td>406535</td>\n",
       "      <td>30566</td>\n",
       "      <td>38204</td>\n",
       "    </tr>\n",
       "  </tbody>\n",
       "</table>\n",
       "</div>"
      ],
      "text/plain": [
       "   part_month  impressions  fixations (no predictions)  \\\n",
       "0           1       390444                       26973   \n",
       "1           2       365605                       24184   \n",
       "2           3       406535                       30566   \n",
       "\n",
       "   fixations (predictions)  \n",
       "0                    41418  \n",
       "1                    36455  \n",
       "2                    38204  "
      ]
     },
     "execution_count": 12,
     "metadata": {},
     "output_type": "execute_result"
    }
   ],
   "source": [
    "final_df = impressions_df.groupby(\"part_month\").apply(\n",
    "    lambda x: pd.Series(\n",
    "        {\n",
    "            \"impressions\": x[\"id\"].count(),\"\"\n",
    "            \"fixations (no predictions)\": x[x[\"is_fixated\"] == True][\"id\"].count(),\n",
    "            \"fixations (predictions)\": x[x[\"final_fixation\"] == True][\"id\"].count()\n",
    "        }\n",
    "    )\n",
    ")\n",
    "final_df = final_df.reset_index()\n",
    "final_df"
   ]
  },
  {
   "cell_type": "code",
   "execution_count": 19,
   "id": "d97dd461",
   "metadata": {},
   "outputs": [
    {
     "name": "stdout",
     "output_type": "stream",
     "text": [
      "month: 1\n",
      "impressions: 390444\n",
      "fixations (no predictions): 26973\n",
      "final:fixations (predictions): 41418\n",
      "\n",
      "\n",
      "month: 2\n",
      "impressions: 365605\n",
      "fixations (no predictions): 24184\n",
      "final:fixations (predictions): 36455\n",
      "\n",
      "\n",
      "month: 3\n",
      "impressions: 406535\n",
      "fixations (no predictions): 30566\n",
      "final:fixations (predictions): 38204\n",
      "\n",
      "\n"
     ]
    }
   ],
   "source": [
    "for index, series in final_df.iterrows():\n",
    "    print(f\"month: {series['part_month']}\")\n",
    "    print(f\"impressions: {series['impressions']}\")\n",
    "    print(f\"fixations (no predictions): {series['fixations (no predictions)']}\")\n",
    "    print(f\"final:fixations (predictions): {series['fixations (predictions)']}\")\n",
    "    print(\"\\n\")"
   ]
  },
  {
   "cell_type": "code",
   "execution_count": 9,
   "id": "2b8db0cb",
   "metadata": {},
   "outputs": [
    {
     "name": "stdout",
     "output_type": "stream",
     "text": [
      "impressions: 1162584\n",
      "fixations (no predictions): 81723\n",
      "final:fixations (predictions): 116077\n"
     ]
    }
   ],
   "source": [
    "print(f\"impressions: {impressions_df['id'].count()}\")\n",
    "print(f\"fixations (no predictions): {impressions_df[impressions_df['is_fixated'] == True]['id'].count()}\")\n",
    "print(f\"final:fixations (predictions): {impressions_df[impressions_df['final_fixation'] == True]['id'].count()}\")"
   ]
  }
 ],
 "metadata": {
  "kernelspec": {
   "display_name": "Python 3 (ipykernel)",
   "language": "python",
   "name": "python3"
  },
  "language_info": {
   "codemirror_mode": {
    "name": "ipython",
    "version": 3
   },
   "file_extension": ".py",
   "mimetype": "text/x-python",
   "name": "python",
   "nbconvert_exporter": "python",
   "pygments_lexer": "ipython3",
   "version": "3.10.6"
  }
 },
 "nbformat": 4,
 "nbformat_minor": 5
}
