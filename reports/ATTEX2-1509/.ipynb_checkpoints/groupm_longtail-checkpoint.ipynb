{
 "cells": [
  {
   "cell_type": "code",
   "execution_count": 1,
   "id": "b0e4f08d",
   "metadata": {},
   "outputs": [],
   "source": [
    "import pandas as pd\n",
    "import numpy as np"
   ]
  },
  {
   "cell_type": "code",
   "execution_count": 2,
   "id": "6fdc6b10",
   "metadata": {},
   "outputs": [],
   "source": [
    "client_df = pd.read_excel(\"./Sitelist.xlsx\")"
   ]
  },
  {
   "cell_type": "code",
   "execution_count": 3,
   "id": "00e453a1",
   "metadata": {},
   "outputs": [],
   "source": [
    "impressions_df = pd.read_csv(\"./impressions.csv\")"
   ]
  },
  {
   "cell_type": "code",
   "execution_count": 4,
   "id": "9292d0ed",
   "metadata": {},
   "outputs": [],
   "source": [
    "impressions_df = impressions_df[impressions_df.hostname.isin(list(client_df.domain.unique()))]"
   ]
  },
  {
   "cell_type": "code",
   "execution_count": 5,
   "id": "349ccc74",
   "metadata": {},
   "outputs": [],
   "source": [
    "import json\n",
    "\n",
    "def extract_pid(placement_id):\n",
    "    try:\n",
    "        placement_id = json.loads(placement_id)\n",
    "    except:\n",
    "        placement_id = {\"tag_id\": [\"\"], \"bam_ad_slot\": []}\n",
    "    bam_ad_slots = placement_id[\"bam_ad_slot\"]\n",
    "    # print(bam_ad_slots)\n",
    "    final_bam_ad_slots = [bas for bas in bam_ad_slots if bas.strip() != '']\n",
    "    ret = ''\n",
    "    try:\n",
    "        ret = placement_id['tag_id'][0]\n",
    "    except:\n",
    "        # print('.')\n",
    "        ret = ','.join([bas for bas in final_bam_ad_slots])\n",
    "    else:\n",
    "        ret += ','.join([bas for bas in final_bam_ad_slots])\n",
    "    return ret\n",
    "    \n",
    "\n",
    "def pid_type(pid):\n",
    "    try:\n",
    "        int(pid)\n",
    "        return 'int'\n",
    "    except:\n",
    "        return 'str'\n",
    "\n",
    "#impressions_df['pid'] = impressions_df['placement_ids'].apply(extract_pid)\n",
    "#impressions_df['pid_type'] = impressions_df['pid'].apply(pid_type)\n",
    "\n",
    "#impressions_df = impressions_df[impressions_df[\"pid_type\"] == 'int']\n",
    "#impressions_df['pid'] = impressions_df['pid'].apply(lambda pid: int(pid))"
   ]
  },
  {
   "cell_type": "code",
   "execution_count": null,
   "id": "61f01b71",
   "metadata": {},
   "outputs": [],
   "source": [
    "grouped_df = impressions_df.groupby([\"hostname\"]).apply(\n",
    "    lambda x: pd.Series(\n",
    "        {\n",
    "            \"ImpressionCount\": x[\"id\"].count(),\n",
    "            \"FixationCount\": x.loc[x[\"is_fixated\"], \"id\"].count()\n",
    "        }\n",
    "    )\n",
    ")\n",
    "grouped_df = grouped_df.reset_index()\n",
    "grouped_df"
   ]
  }
 ],
 "metadata": {
  "kernelspec": {
   "display_name": "Python 3 (ipykernel)",
   "language": "python",
   "name": "python3"
  },
  "language_info": {
   "codemirror_mode": {
    "name": "ipython",
    "version": 3
   },
   "file_extension": ".py",
   "mimetype": "text/x-python",
   "name": "python",
   "nbconvert_exporter": "python",
   "pygments_lexer": "ipython3",
   "version": "3.10.6"
  }
 },
 "nbformat": 4,
 "nbformat_minor": 5
}
