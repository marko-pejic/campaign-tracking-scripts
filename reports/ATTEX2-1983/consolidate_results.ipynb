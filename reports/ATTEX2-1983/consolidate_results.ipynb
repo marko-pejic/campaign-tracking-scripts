{
 "cells": [
  {
   "cell_type": "code",
   "execution_count": 1,
   "id": "3b9901fb",
   "metadata": {},
   "outputs": [],
   "source": [
    "import pandas as pd\n",
    "import numpy as np"
   ]
  },
  {
   "cell_type": "code",
   "execution_count": 2,
   "id": "13e738d3",
   "metadata": {},
   "outputs": [
    {
     "data": {
      "text/html": [
       "<div>\n",
       "<style scoped>\n",
       "    .dataframe tbody tr th:only-of-type {\n",
       "        vertical-align: middle;\n",
       "    }\n",
       "\n",
       "    .dataframe tbody tr th {\n",
       "        vertical-align: top;\n",
       "    }\n",
       "\n",
       "    .dataframe thead th {\n",
       "        text-align: right;\n",
       "    }\n",
       "</style>\n",
       "<table border=\"1\" class=\"dataframe\">\n",
       "  <thead>\n",
       "    <tr style=\"text-align: right;\">\n",
       "      <th></th>\n",
       "      <th>hostname</th>\n",
       "      <th>Impressions</th>\n",
       "      <th>Inviews</th>\n",
       "      <th>Fixations</th>\n",
       "      <th>Fixation/Inview Ratio</th>\n",
       "      <th>Average Fixation Duration</th>\n",
       "      <th>Total Fixation Duration</th>\n",
       "      <th>Client Total Fixation Duration</th>\n",
       "      <th>Sample Size</th>\n",
       "    </tr>\n",
       "  </thead>\n",
       "  <tbody>\n",
       "    <tr>\n",
       "      <th>0</th>\n",
       "      <td>aftonbladet.se</td>\n",
       "      <td>1369241</td>\n",
       "      <td>995175</td>\n",
       "      <td>349022</td>\n",
       "      <td>35.07</td>\n",
       "      <td>2367.65</td>\n",
       "      <td>123118</td>\n",
       "      <td>8.263619e+08</td>\n",
       "      <td>high</td>\n",
       "    </tr>\n",
       "    <tr>\n",
       "      <th>1</th>\n",
       "      <td>malservice.aftonbladet.se</td>\n",
       "      <td>5</td>\n",
       "      <td>2</td>\n",
       "      <td>0</td>\n",
       "      <td>0.00</td>\n",
       "      <td>NaN</td>\n",
       "      <td>0</td>\n",
       "      <td>NaN</td>\n",
       "      <td>low</td>\n",
       "    </tr>\n",
       "    <tr>\n",
       "      <th>2</th>\n",
       "      <td>svd.se</td>\n",
       "      <td>7807</td>\n",
       "      <td>5068</td>\n",
       "      <td>2787</td>\n",
       "      <td>54.99</td>\n",
       "      <td>3301.47</td>\n",
       "      <td>198088</td>\n",
       "      <td>9.201197e+06</td>\n",
       "      <td>medium</td>\n",
       "    </tr>\n",
       "    <tr>\n",
       "      <th>3</th>\n",
       "      <td>tv.nu</td>\n",
       "      <td>9800</td>\n",
       "      <td>6031</td>\n",
       "      <td>1782</td>\n",
       "      <td>29.55</td>\n",
       "      <td>985.25</td>\n",
       "      <td>3941</td>\n",
       "      <td>1.755716e+06</td>\n",
       "      <td>medium</td>\n",
       "    </tr>\n",
       "  </tbody>\n",
       "</table>\n",
       "</div>"
      ],
      "text/plain": [
       "                    hostname  Impressions  Inviews  Fixations  \\\n",
       "0             aftonbladet.se      1369241   995175     349022   \n",
       "1  malservice.aftonbladet.se            5        2          0   \n",
       "2                     svd.se         7807     5068       2787   \n",
       "3                      tv.nu         9800     6031       1782   \n",
       "\n",
       "   Fixation/Inview Ratio  Average Fixation Duration  Total Fixation Duration  \\\n",
       "0                  35.07                    2367.65                   123118   \n",
       "1                   0.00                        NaN                        0   \n",
       "2                  54.99                    3301.47                   198088   \n",
       "3                  29.55                     985.25                     3941   \n",
       "\n",
       "   Client Total Fixation Duration Sample Size  \n",
       "0                    8.263619e+08        high  \n",
       "1                             NaN         low  \n",
       "2                    9.201197e+06      medium  \n",
       "3                    1.755716e+06      medium  "
      ]
     },
     "execution_count": 2,
     "metadata": {},
     "output_type": "execute_result"
    }
   ],
   "source": [
    "client = \"stadium\"\n",
    "df = pd.read_excel(f\"./{client}_results.xlsx\")\n",
    "df"
   ]
  },
  {
   "cell_type": "code",
   "execution_count": 3,
   "id": "98356589",
   "metadata": {},
   "outputs": [
    {
     "name": "stderr",
     "output_type": "stream",
     "text": [
      "/tmp/ipykernel_22833/497368128.py:2: SettingWithCopyWarning: \n",
      "A value is trying to be set on a copy of a slice from a DataFrame.\n",
      "Try using .loc[row_indexer,col_indexer] = value instead\n",
      "\n",
      "See the caveats in the documentation: https://pandas.pydata.org/pandas-docs/stable/user_guide/indexing.html#returning-a-view-versus-a-copy\n",
      "  df[\"group\"] = 1\n"
     ]
    }
   ],
   "source": [
    "df = df[df[\"Sample Size\"].isin([\"high\", \"medium\"])]\n",
    "df[\"group\"] = 1"
   ]
  },
  {
   "cell_type": "code",
   "execution_count": 4,
   "id": "114f1383",
   "metadata": {},
   "outputs": [
    {
     "data": {
      "text/html": [
       "<div>\n",
       "<style scoped>\n",
       "    .dataframe tbody tr th:only-of-type {\n",
       "        vertical-align: middle;\n",
       "    }\n",
       "\n",
       "    .dataframe tbody tr th {\n",
       "        vertical-align: top;\n",
       "    }\n",
       "\n",
       "    .dataframe thead th {\n",
       "        text-align: right;\n",
       "    }\n",
       "</style>\n",
       "<table border=\"1\" class=\"dataframe\">\n",
       "  <thead>\n",
       "    <tr style=\"text-align: right;\">\n",
       "      <th></th>\n",
       "      <th>group</th>\n",
       "      <th>Impressions</th>\n",
       "      <th>Inviews</th>\n",
       "      <th>Fixations</th>\n",
       "      <th>Fixation/Inview Ratio</th>\n",
       "      <th>Average Fixation Duration</th>\n",
       "      <th>Total Fixation Duration</th>\n",
       "    </tr>\n",
       "  </thead>\n",
       "  <tbody>\n",
       "    <tr>\n",
       "      <th>0</th>\n",
       "      <td>1</td>\n",
       "      <td>1351970.0</td>\n",
       "      <td>984260.0</td>\n",
       "      <td>344542.0</td>\n",
       "      <td>35.14</td>\n",
       "      <td>2368.0</td>\n",
       "      <td>815890425.0</td>\n",
       "    </tr>\n",
       "  </tbody>\n",
       "</table>\n",
       "</div>"
      ],
      "text/plain": [
       "   group  Impressions   Inviews  Fixations  Fixation/Inview Ratio  \\\n",
       "0      1    1351970.0  984260.0   344542.0                  35.14   \n",
       "\n",
       "   Average Fixation Duration  Total Fixation Duration  \n",
       "0                     2368.0              815890425.0  "
      ]
     },
     "execution_count": 4,
     "metadata": {},
     "output_type": "execute_result"
    }
   ],
   "source": [
    "final_df = df.groupby([\"group\"]).apply(\n",
    "    lambda x: pd.Series(\n",
    "        {\n",
    "            \"Impressions\": np.floor(np.average(x[\"Impressions\"], weights=x[\"Impressions\"])),\n",
    "            \"Inviews\": np.floor(np.average(x[\"Inviews\"], weights=x[\"Inviews\"])),\n",
    "            \"Fixations\": np.floor(np.average(x[\"Fixations\"], weights=x[\"Fixations\"])),\n",
    "            \"Fixation/Inview Ratio\": round(np.average(x[\"Fixation/Inview Ratio\"], weights=x[\"Impressions\"]), 2),\n",
    "            \"Average Fixation Duration\": np.floor(np.average(x[\"Average Fixation Duration\"], weights=x[\"Fixations\"])),\n",
    "            \"Total Fixation Duration\": np.floor(np.average(x[\"Average Fixation Duration\"], weights=x[\"Fixations\"]) *  np.floor(np.average(x[\"Fixations\"], weights=x[\"Fixations\"])))\n",
    "        }\n",
    "    )\n",
    ")\n",
    "final_df = final_df.reset_index()\n",
    "final_df"
   ]
  },
  {
   "cell_type": "code",
   "execution_count": 5,
   "id": "ca3592fe",
   "metadata": {},
   "outputs": [],
   "source": [
    "final_df = final_df[[\"Impressions\", \"Inviews\", \"Fixations\", \"Fixation/Inview Ratio\", \"Average Fixation Duration\", \"Total Fixation Duration\"]]\n",
    "\n",
    "final_df.to_excel(f\"./{client}_results_consolidated.xlsx\", index=False)"
   ]
  }
 ],
 "metadata": {
  "kernelspec": {
   "display_name": "Python 3 (ipykernel)",
   "language": "python",
   "name": "python3"
  },
  "language_info": {
   "codemirror_mode": {
    "name": "ipython",
    "version": 3
   },
   "file_extension": ".py",
   "mimetype": "text/x-python",
   "name": "python",
   "nbconvert_exporter": "python",
   "pygments_lexer": "ipython3",
   "version": "3.10.12"
  }
 },
 "nbformat": 4,
 "nbformat_minor": 5
}
