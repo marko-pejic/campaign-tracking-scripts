{
 "cells": [
  {
   "cell_type": "code",
   "execution_count": 5,
   "id": "8992b1ad",
   "metadata": {},
   "outputs": [],
   "source": [
    "import pandas as pd\n",
    "import numpy as np\n",
    "import json\n",
    "import os\n",
    "import re\n",
    "from pyathena import connect\n",
    "from pyathena.pandas.util import as_pandas\n",
    "from pyathena.pandas.cursor import PandasCursor"
   ]
  },
  {
   "cell_type": "code",
   "execution_count": 6,
   "id": "487c11d8",
   "metadata": {},
   "outputs": [],
   "source": [
    "cursor = connect(s3_staging_dir=\"s3://aws-athena-query-results-094611745175-eu-west-1/\",\n",
    "                 region_name=\"eu-west-1\", profile_name=\"atexprodadminsso\", cursor_class=PandasCursor).cursor()\n",
    "\n",
    "impressions_df = cursor.execute(f''' \n",
    "select \n",
    "    \"impression_model\".\"id\", \n",
    "    \"placement_ids\", \n",
    "    \"placement_ids_chosen\", \n",
    "    \"total_fixation_duration\", \n",
    "    \"ad_technical_format\",\n",
    "    \"is_fixated\", \n",
    "    \"gaze_valid\", \n",
    "    \"is_iab_inview\", \n",
    "    \"exist_viewable_1_s_threshold_50\", \n",
    "    \"exist_viewable_2_s_threshold_50\", \n",
    "    CONCAT(cast(ad_width_chosen as VARCHAR), 'x', cast(ad_height_chosen as VARCHAR)) AS size\n",
    "from \"prod_attentionpanel_com_eu_west_1\".\"impression_model\"\n",
    "where impression_model.part_year = '2023' and gaze_valid = True\n",
    "''').as_pandas()\n",
    "#  and impression_model.part_month in ('09')"
   ]
  },
  {
   "cell_type": "code",
   "execution_count": 7,
   "id": "9b4a4abf",
   "metadata": {},
   "outputs": [
    {
     "name": "stderr",
     "output_type": "stream",
     "text": [
      "/tmp/ipykernel_30708/3375560408.py:22: SettingWithCopyWarning: \n",
      "A value is trying to be set on a copy of a slice from a DataFrame.\n",
      "Try using .loc[row_indexer,col_indexer] = value instead\n",
      "\n",
      "See the caveats in the documentation: https://pandas.pydata.org/pandas-docs/stable/user_guide/indexing.html#returning-a-view-versus-a-copy\n",
      "  impressions_df['pid'] = impressions_df['pid'].apply(lambda pid: int(pid))\n"
     ]
    }
   ],
   "source": [
    "def extract_pid(placement_id):\n",
    "    placement_id = json.loads(placement_id)\n",
    "    bam_ad_slots = placement_id[\"bam_ad_slot\"]\n",
    "    final_bam_ad_slots = [bas for bas in bam_ad_slots if bas.strip() != '']\n",
    "    try:\n",
    "        ret = placement_id['tag_id'][0]\n",
    "    except:\n",
    "        return\n",
    "    ret += ','.join([bas for bas in final_bam_ad_slots])\n",
    "    return ret\n",
    "\n",
    "def pid_type(pid):\n",
    "    try:\n",
    "        int(pid)\n",
    "        return 'int'\n",
    "    except:\n",
    "        return 'str'\n",
    "\n",
    "impressions_df['pid'] = impressions_df['placement_ids'].apply(extract_pid)\n",
    "impressions_df['pid_type'] = impressions_df['pid'].apply(pid_type)\n",
    "impressions_df = impressions_df[impressions_df[\"pid_type\"] == 'int']\n",
    "impressions_df['pid'] = impressions_df['pid'].apply(lambda pid: int(pid))"
   ]
  },
  {
   "cell_type": "code",
   "execution_count": 8,
   "id": "be221d4c",
   "metadata": {},
   "outputs": [
    {
     "name": "stderr",
     "output_type": "stream",
     "text": [
      "/tmp/ipykernel_30708/293613858.py:1: SettingWithCopyWarning: \n",
      "A value is trying to be set on a copy of a slice from a DataFrame.\n",
      "Try using .loc[row_indexer,col_indexer] = value instead\n",
      "\n",
      "See the caveats in the documentation: https://pandas.pydata.org/pandas-docs/stable/user_guide/indexing.html#returning-a-view-versus-a-copy\n",
      "  impressions_df[\"true_is_iab_inview\"] = impressions_df.apply(\n"
     ]
    }
   ],
   "source": [
    "impressions_df[\"true_is_iab_inview\"] = impressions_df.apply(\n",
    "    lambda x: \n",
    "    True if (\n",
    "        (x[\"ad_technical_format\"] == \"out-stream\") & (x[\"exist_viewable_1_s_threshold_50\"] == True) & (x[\"exist_viewable_2_s_threshold_50\"] == False)\n",
    "    ) | (x[\"is_iab_inview\"] == True) \n",
    "    else False, \n",
    "    axis=1\n",
    ")"
   ]
  },
  {
   "cell_type": "code",
   "execution_count": 16,
   "id": "e175da0f",
   "metadata": {},
   "outputs": [
    {
     "data": {
      "text/plain": [
       "False    337358\n",
       "True     120202\n",
       "Name: is_fixated, dtype: int64"
      ]
     },
     "execution_count": 16,
     "metadata": {},
     "output_type": "execute_result"
    }
   ],
   "source": [
    "impressions_df[\"is_fixated\"].value_counts()"
   ]
  },
  {
   "cell_type": "code",
   "execution_count": 25,
   "id": "4382a77f",
   "metadata": {},
   "outputs": [],
   "source": [
    "grouped_df = impressions_df.groupby([\"pid\", \"size\"]).apply(\n",
    "    lambda x: pd.Series(\n",
    "        {\n",
    "            \"imps\": x[\"id\"].count(),\n",
    "            \"fixations\": x.loc[x[\"is_fixated\"], \"id\"].count(),\n",
    "            \"inview\": x.loc[x[\"true_is_iab_inview\"], \"id\"].count()\n",
    "        }\n",
    "    )\n",
    ")\n",
    "grouped_df = grouped_df.reset_index()\n",
    "final_df = grouped_df.sort_values([\"imps\"], ascending=False).head(100)"
   ]
  },
  {
   "cell_type": "code",
   "execution_count": 26,
   "id": "716b45df",
   "metadata": {},
   "outputs": [],
   "source": [
    "final_df[\"fixation ratio\"] = round(final_df[\"fixations\"] / grouped_df[\"imps\"] * 100, 2)\n",
    "final_df[\"inview ratio\"] = round(final_df[\"inview\"] / grouped_df[\"imps\"] * 100, 2)\n",
    "final_df[\"fixation/inview ratio\"] = round(final_df[\"fixations\"] / grouped_df[\"inview\"] * 100, 2)\n",
    "\n",
    "final_df[\"fixation ratio\"] = final_df[\"fixation ratio\"].replace([np.inf, -np.inf], 0)\n",
    "final_df[\"fixation ratio\"] = final_df[\"fixation ratio\"].fillna(0)\n",
    "final_df[\"inview ratio\"] = final_df[\"inview ratio\"].replace([np.inf, -np.inf], 0)\n",
    "final_df[\"inview ratio\"] = final_df[\"inview ratio\"].fillna(0)\n",
    "final_df[\"fixation/inview ratio\"] = final_df[\"fixation/inview ratio\"].replace([np.inf, -np.inf], 0)\n",
    "final_df[\"fixation/inview ratio\"] = final_df[\"fixation/inview ratio\"].fillna(0)"
   ]
  },
  {
   "cell_type": "code",
   "execution_count": 27,
   "id": "417fe9bd",
   "metadata": {},
   "outputs": [],
   "source": [
    "final_df.to_excel(\"./sample.xlsx\", index=False)"
   ]
  }
 ],
 "metadata": {
  "kernelspec": {
   "display_name": "Python 3 (ipykernel)",
   "language": "python",
   "name": "python3"
  },
  "language_info": {
   "codemirror_mode": {
    "name": "ipython",
    "version": 3
   },
   "file_extension": ".py",
   "mimetype": "text/x-python",
   "name": "python",
   "nbconvert_exporter": "python",
   "pygments_lexer": "ipython3",
   "version": "3.10.12"
  }
 },
 "nbformat": 4,
 "nbformat_minor": 5
}
