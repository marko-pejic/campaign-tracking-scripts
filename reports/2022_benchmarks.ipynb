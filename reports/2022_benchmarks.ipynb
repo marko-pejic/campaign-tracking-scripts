{
 "cells": [
  {
   "cell_type": "code",
   "execution_count": null,
   "id": "e86077c9",
   "metadata": {},
   "outputs": [],
   "source": [
    "import pandas as pd\n",
    "import numpy as np"
   ]
  },
  {
   "cell_type": "code",
   "execution_count": null,
   "id": "61e847cd",
   "metadata": {},
   "outputs": [],
   "source": [
    "# 2022\n",
    "impressions_df_q1 = pd.read_csv(\"../datasets/asets/tasets/impressions/2022/impressions_q1.csv\")\n",
    "impressions_df_q2 = pd.read_csv(\"../datasets/asets/tasets/impressions/2022/impressions_q2.csv\")\n",
    "impressions_df_q3 = pd.read_csv(\"../datasets/asets/tasets/impressions/2022/impressions_q3.csv\")\n",
    "impressions_df_q4 = pd.read_csv(\"../datasets/asets/tasets/impressions/2022/impressions_q4.csv\")\n",
    "\n",
    "impressions_df = pd.concat([impressions_df_q1, impressions_df_q2, impressions_df_q3, impressions_df_q4])"
   ]
  },
  {
   "cell_type": "code",
   "execution_count": null,
   "id": "3c328494",
   "metadata": {},
   "outputs": [],
   "source": [
    "impressions_df[\n",
    "        (impressions_df[\"gaze_valid\"] == True)\n",
    "        & (impressions_df[\"is_fixated\"] == True)\n",
    "        & (impressions_df[\"total_fixation_duration\"] < 1)\n",
    "    ]"
   ]
  },
  {
   "cell_type": "code",
   "execution_count": null,
   "id": "32a9a06a",
   "metadata": {},
   "outputs": [],
   "source": [
    "# Only use real data, ignore predictions\n",
    "impressions_df = impressions_df[impressions_df[\"gaze_valid\"] == True]"
   ]
  },
  {
   "cell_type": "code",
   "execution_count": null,
   "id": "d4074db6",
   "metadata": {},
   "outputs": [],
   "source": [
    "# calculate true iab_inview according to schibsted\n",
    "impressions_df[\"true_is_iab_inview\"] = impressions_df.apply(\n",
    "    lambda x: \n",
    "    True if (\n",
    "        (x[\"ad_technical_format\"] == \"out-stream\") & (x[\"exist_viewable_1_s_threshold_50\"] == True) & (x[\"exist_viewable_2_s_threshold_50\"] == False)\n",
    "    ) | (x[\"is_iab_inview\"] == True) \n",
    "    else False, \n",
    "    axis=1\n",
    ")"
   ]
  },
  {
   "cell_type": "code",
   "execution_count": null,
   "id": "4329de73",
   "metadata": {},
   "outputs": [],
   "source": [
    "# Normalise outliers for fixation duration (10 seconds)\n",
    "impressions_df.loc[impressions_df[\"total_fixation_duration\"] >= 10000, \"total_fixation_duration\"] = 10000"
   ]
  },
  {
   "cell_type": "code",
   "execution_count": null,
   "id": "80070a83",
   "metadata": {},
   "outputs": [],
   "source": [
    "# run through predictions for 2022\n",
    "import os\n",
    "import json\n",
    "\n",
    "def _get_pred_map():\n",
    "    pred_map = dict()\n",
    "    \n",
    "    #for i in range(1, 7):\n",
    "    #for i in range(7, 13):\n",
    "    for i in range(1, 13):\n",
    "        if i < 10:\n",
    "            i = f'0{i}'\n",
    "        for day in os.listdir(f'../predictions/2022/{i}'):\n",
    "            for h in os.listdir(f'../predictions/2022/{i}/{day}'):\n",
    "                if not h.endswith('.ndjson'):\n",
    "                    continue\n",
    "                with open(f'../predictions/2022/{i}/{day}/{h}')as f:\n",
    "                    for line in f.readlines():\n",
    "                        json_line = json.loads(line)\n",
    "                        id_ = json_line['id']\n",
    "                        pred_map[id_] = json_line['prediction']\n",
    "    return pred_map\n",
    "                            \n",
    "pred_map = _get_pred_map()"
   ]
  },
  {
   "cell_type": "code",
   "execution_count": null,
   "id": "fb47b30b",
   "metadata": {},
   "outputs": [],
   "source": [
    "def _get_final_fixation(is_iab_inview, gaze_valid, is_fixated, id_, pred_map):\n",
    "    \"\"\"\n",
    "    Do we need to remove \n",
    "        gaze_valid = True (eyetracker configured/enabled)\n",
    "        is_fixated = True (gaze cordinates and ad overlap)\n",
    "        is_iab_inview = False (example, only 40% of ad is visable)\n",
    "    \"\"\"\n",
    "    if gaze_valid:\n",
    "        return is_fixated\n",
    "    if id_ in pred_map and is_iab_inview:\n",
    "        return pred_map[id_]\n",
    "    return False\n",
    "\n",
    "impressions_df['final_fixation'] = impressions_df.apply(lambda row: _get_final_fixation(row['true_is_iab_inview'], row['gaze_valid'], row['is_fixated'], row['id'], pred_map), axis=1)\n"
   ]
  },
  {
   "cell_type": "code",
   "execution_count": null,
   "id": "ece5a0d0",
   "metadata": {},
   "outputs": [],
   "source": [
    "# Calculate mean values for for different technical formats. This will be used to fillna\n",
    "display_total_fixation_duration_mean = impressions_df[\n",
    "    (impressions_df[\"is_fixated\"] == True) \n",
    "    & (impressions_df[\"ad_technical_format\"] == \"display\") \n",
    "    & (impressions_df[\"total_fixation_duration\"] != 0)\n",
    "][\"total_fixation_duration\"].mean()\n",
    "\n",
    "out_stream_total_fixation_duration_mean = impressions_df[\n",
    "    (impressions_df[\"is_fixated\"] == True) \n",
    "    & (impressions_df[\"ad_technical_format\"] == \"out-stream\") \n",
    "    & (impressions_df[\"total_fixation_duration\"] != 0)\n",
    "][\"total_fixation_duration\"].mean()\n",
    "\n",
    "in_stream_total_fixation_duration_mean = impressions_df[\n",
    "    (impressions_df[\"is_fixated\"] == True) \n",
    "    & (impressions_df[\"ad_technical_format\"] == \"in-stream\") \n",
    "    & (impressions_df[\"total_fixation_duration\"] != 0)\n",
    "][\"total_fixation_duration\"].mean()"
   ]
  },
  {
   "cell_type": "code",
   "execution_count": null,
   "id": "0cc62f6c",
   "metadata": {},
   "outputs": [],
   "source": [
    "print(f\"Display: {round(display_total_fixation_duration_mean, 4)}\")\n",
    "print(f\"Out-stream: {round(out_stream_total_fixation_duration_mean, 4)}\")\n",
    "print(f\"In-stream: {round(in_stream_total_fixation_duration_mean, 4)}\")"
   ]
  },
  {
   "cell_type": "code",
   "execution_count": null,
   "id": "50f365ea",
   "metadata": {},
   "outputs": [],
   "source": [
    "# When using fixations from predictions, we set the fixation time to the overall average, since otherwise its 0\n",
    "impressions_df.loc[\n",
    "    (impressions_df[\"final_fixation\"] == True) \n",
    "    & (impressions_df[\"gaze_valid\"] == False) \n",
    "    & (impressions_df[\"total_fixation_duration\"] == 0) \n",
    "    & (impressions_df[\"ad_technical_format\"] == \"display\"),\n",
    "    \"total_fixation_duration\"\n",
    "] = display_total_fixation_duration_mean\n",
    "\n",
    "impressions_df.loc[\n",
    "    (impressions_df[\"final_fixation\"] == True) \n",
    "    & (impressions_df[\"gaze_valid\"] == False)\n",
    "    & (impressions_df[\"total_fixation_duration\"] == 0) \n",
    "    & (impressions_df[\"ad_technical_format\"] == \"in-stream\"),\n",
    "    \"total_fixation_duration\"\n",
    "] = in_stream_total_fixation_duration_mean\n",
    "\n",
    "impressions_df.loc[\n",
    "    (impressions_df[\"final_fixation\"] == True) \n",
    "    & (impressions_df[\"gaze_valid\"] == False) \n",
    "    & (impressions_df[\"total_fixation_duration\"] == 0) \n",
    "    & (impressions_df[\"ad_technical_format\"] == \"out-stream\"),\n",
    "    \"total_fixation_duration\"\n",
    "] = out_stream_total_fixation_duration_mean"
   ]
  },
  {
   "cell_type": "code",
   "execution_count": null,
   "id": "0d60d395",
   "metadata": {
    "scrolled": true
   },
   "outputs": [],
   "source": [
    "grouped_df = impressions_df.groupby([\"ad_technical_format\", \"channel\"]).apply(\n",
    "    lambda x: pd.Series({\n",
    "        \"impression_count\": x[\"id\"].count(),\n",
    "        \"fixation_count\": x[x[\"is_fixated\"] == True][\"id\"].count(),\n",
    "        \"in_view_count\": x[x[\"is_iab_inview\"] == True][\"id\"].count(),\n",
    "        \"true_in_view_count\": x[x[\"true_is_iab_inview\"] == True][\"id\"].count(),\n",
    "        \"fixation_time_total\": round(x[\"total_fixation_duration\"].sum(), 4),\n",
    "        \"fixation_time_fixated\": round(x[x[\"is_fixated\"] == True][\"total_fixation_duration\"].sum(), 4)\n",
    "    })\n",
    ")\n",
    "grouped_df = grouped_df.reset_index()\n",
    "grouped_df"
   ]
  },
  {
   "cell_type": "code",
   "execution_count": null,
   "id": "571985f8",
   "metadata": {},
   "outputs": [],
   "source": [
    "grouped_df.to_excel(\"../final_reports/2022_benchmark_gaze_valid.xlsx\", index=False)"
   ]
  },
  {
   "cell_type": "code",
   "execution_count": null,
   "id": "93db0e85",
   "metadata": {},
   "outputs": [],
   "source": [
    "final_df = grouped_df.copy()"
   ]
  },
  {
   "cell_type": "code",
   "execution_count": null,
   "id": "f2c2bc36",
   "metadata": {},
   "outputs": [],
   "source": [
    "final_df[\"avg_fixation_time_total\"] = final_df.apply(\n",
    "    lambda x: f'{round(x[\"fixation_time_total\"] / x[\"fixation_count\"], 4)} ms', \n",
    "    axis=1\n",
    ")\n",
    "final_df[\"avg_fixation_time_fixated\"] = final_df.apply(\n",
    "    lambda x: f'{round(float(x[\"fixation_time_fixated\"]) / x[\"fixation_count\"], 4)} ms', \n",
    "    axis=1\n",
    ")\n",
    "final_df[\"inview_impression_ratio\"] = final_df.apply(lambda x: f'{round((x[\"true_in_view_count\"] / x[\"impression_count\"]) * 100, 0)} %', axis=1)\n",
    "final_df[\"inview_fixation_ratio\"] = final_df.apply(lambda x: f'{round((x[\"fixation_count\"] / x[\"in_view_count\"]) * 100, 0)} %', axis=1)\n",
    "\n",
    "\n",
    "final_df[\"fixation_ratio\"] = final_df.apply(lambda x: f'{round((x[\"fixation_count\"] / x[\"impression_count\"]) * 100, 0)} %', axis=1)\n",
    "\n",
    "final_df"
   ]
  },
  {
   "cell_type": "code",
   "execution_count": null,
   "id": "734ac609",
   "metadata": {},
   "outputs": [],
   "source": [
    "final_df = final_df[\n",
    "    [\n",
    "        \"ad_technical_format\", \"channel\", \"impression_count\", \"inview_impression_ratio\", \"fixation_count\", \n",
    "        \"fixation_time_total\", \"avg_fixation_time_fixated\", \"fixation_time_fixated\",\n",
    "        \"in_view_count\", \"inview_fixation_ratio\", \"fixation_ratio\"\n",
    "    ]\n",
    "]\n",
    "final_df.to_excel(\"../final_reports/2022_benchmark.xlsx\", startrow=16, index=False)"
   ]
  },
  {
   "cell_type": "code",
   "execution_count": null,
   "id": "40a4ec7d",
   "metadata": {},
   "outputs": [],
   "source": [
    "#import xlsxwriter\n",
    "#final_df_2022 = pd.read_excel(\"../final_reports/2022_benchmark_GAZE_VALID_V6.xlsx\")\n",
    "#final_df_2022_q1 = pd.read_excel(\"../final_reports/2022_benchmark_GAZE_VALID_V7_q1.xlsx\")\n",
    "#final_df_2022_q2 = pd.read_excel(\"../final_reports/2022_benchmark_GAZE_VALID_V7_q2.xlsx\")\n",
    "#final_df_2022_q3 = pd.read_excel(\"../final_reports/2022_benchmark_GAZE_VALID_V7_q3.xlsx\")\n",
    "#final_df_2022_q4 = pd.read_excel(\"../final_reports/2022_benchmark_GAZE_VALID_V7_q4.xlsx\")\n",
    "\n",
    "\n",
    "#with pd.ExcelWriter('../final_reports/2022_benchmark_v_7.xlsx', engine='xlsxwriter') as writer:\n",
    "#    final_df_2022.to_excel(writer, startrow=1, startcol=0, index=False)\n",
    "#    final_df_2022_q1.to_excel(writer, startrow=1+len(final_df_2022)+3, startcol=0, index=False)\n",
    "#    final_df_2022_q2.to_excel(writer, startrow=1+len(final_df_2022)+len(final_df_2022_q1)+6, startcol=0, index=False)\n",
    "#    final_df_2022_q3.to_excel(writer, startrow=1+len(final_df_2022)+len(final_df_2022_q1)+len(final_df_2022_q2)+9, startcol=0, index=False)\n",
    "#    final_df_2022_q4.to_excel(writer, startrow=1+len(final_df_2022)+len(final_df_2022_q1)+len(final_df_2022_q2)+len(final_df_2022_q3)+12, startcol=0, index=False)\n",
    "\n",
    "#print(\"Done\")"
   ]
  }
 ],
 "metadata": {
  "kernelspec": {
   "display_name": "Python 3 (ipykernel)",
   "language": "python",
   "name": "python3"
  },
  "language_info": {
   "codemirror_mode": {
    "name": "ipython",
    "version": 3
   },
   "file_extension": ".py",
   "mimetype": "text/x-python",
   "name": "python",
   "nbconvert_exporter": "python",
   "pygments_lexer": "ipython3",
   "version": "3.10.6"
  }
 },
 "nbformat": 4,
 "nbformat_minor": 5
}
