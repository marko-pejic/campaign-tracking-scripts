{
 "cells": [
  {
   "cell_type": "code",
   "execution_count": 1,
   "id": "3b9901fb",
   "metadata": {},
   "outputs": [],
   "source": [
    "import pandas as pd\n",
    "import numpy as np"
   ]
  },
  {
   "cell_type": "code",
   "execution_count": 2,
   "id": "13e738d3",
   "metadata": {},
   "outputs": [
    {
     "data": {
      "text/html": [
       "<div>\n",
       "<style scoped>\n",
       "    .dataframe tbody tr th:only-of-type {\n",
       "        vertical-align: middle;\n",
       "    }\n",
       "\n",
       "    .dataframe tbody tr th {\n",
       "        vertical-align: top;\n",
       "    }\n",
       "\n",
       "    .dataframe thead th {\n",
       "        text-align: right;\n",
       "    }\n",
       "</style>\n",
       "<table border=\"1\" class=\"dataframe\">\n",
       "  <thead>\n",
       "    <tr style=\"text-align: right;\">\n",
       "      <th></th>\n",
       "      <th>hostname</th>\n",
       "      <th>Impressions</th>\n",
       "      <th>Inviews</th>\n",
       "      <th>Fixations</th>\n",
       "      <th>Fixation/Inview Ratio</th>\n",
       "      <th>Average Fixation Duration</th>\n",
       "      <th>Total Fixation Duration</th>\n",
       "      <th>Client Total Fixation Duration</th>\n",
       "      <th>Sample Size</th>\n",
       "    </tr>\n",
       "  </thead>\n",
       "  <tbody>\n",
       "    <tr>\n",
       "      <th>0</th>\n",
       "      <td>aftonbladet.se</td>\n",
       "      <td>1272782</td>\n",
       "      <td>939981</td>\n",
       "      <td>298421</td>\n",
       "      <td>31.75</td>\n",
       "      <td>1258.97</td>\n",
       "      <td>104494.5</td>\n",
       "      <td>3.757031e+08</td>\n",
       "      <td>medium</td>\n",
       "    </tr>\n",
       "    <tr>\n",
       "      <th>1</th>\n",
       "      <td>bloggar.aftonbladet.se</td>\n",
       "      <td>84602</td>\n",
       "      <td>55953</td>\n",
       "      <td>0</td>\n",
       "      <td>0.00</td>\n",
       "      <td>NaN</td>\n",
       "      <td>0.0</td>\n",
       "      <td>NaN</td>\n",
       "      <td>medium</td>\n",
       "    </tr>\n",
       "    <tr>\n",
       "      <th>2</th>\n",
       "      <td>klart.se</td>\n",
       "      <td>1815</td>\n",
       "      <td>546</td>\n",
       "      <td>0</td>\n",
       "      <td>0.00</td>\n",
       "      <td>NaN</td>\n",
       "      <td>0.0</td>\n",
       "      <td>NaN</td>\n",
       "      <td>medium</td>\n",
       "    </tr>\n",
       "    <tr>\n",
       "      <th>3</th>\n",
       "      <td>svd.se</td>\n",
       "      <td>11078</td>\n",
       "      <td>7329</td>\n",
       "      <td>344</td>\n",
       "      <td>4.69</td>\n",
       "      <td>181.00</td>\n",
       "      <td>362.0</td>\n",
       "      <td>6.226400e+04</td>\n",
       "      <td>medium</td>\n",
       "    </tr>\n",
       "  </tbody>\n",
       "</table>\n",
       "</div>"
      ],
      "text/plain": [
       "                 hostname  Impressions  Inviews  Fixations  \\\n",
       "0          aftonbladet.se      1272782   939981     298421   \n",
       "1  bloggar.aftonbladet.se        84602    55953          0   \n",
       "2                klart.se         1815      546          0   \n",
       "3                  svd.se        11078     7329        344   \n",
       "\n",
       "   Fixation/Inview Ratio  Average Fixation Duration  Total Fixation Duration  \\\n",
       "0                  31.75                    1258.97                 104494.5   \n",
       "1                   0.00                        NaN                      0.0   \n",
       "2                   0.00                        NaN                      0.0   \n",
       "3                   4.69                     181.00                    362.0   \n",
       "\n",
       "   Client Total Fixation Duration Sample Size  \n",
       "0                    3.757031e+08      medium  \n",
       "1                             NaN      medium  \n",
       "2                             NaN      medium  \n",
       "3                    6.226400e+04      medium  "
      ]
     },
     "execution_count": 2,
     "metadata": {},
     "output_type": "execute_result"
    }
   ],
   "source": [
    "client = \"syd\"\n",
    "df = pd.read_excel(f\"./{client}_results.xlsx\")\n",
    "df"
   ]
  },
  {
   "cell_type": "code",
   "execution_count": 3,
   "id": "98356589",
   "metadata": {},
   "outputs": [],
   "source": [
    "df = df[df[\"Sample Size\"].isin([\"high\", \"medium\"])]\n",
    "df[\"group\"] = 1"
   ]
  },
  {
   "cell_type": "code",
   "execution_count": 4,
   "id": "114f1383",
   "metadata": {},
   "outputs": [
    {
     "data": {
      "text/html": [
       "<div>\n",
       "<style scoped>\n",
       "    .dataframe tbody tr th:only-of-type {\n",
       "        vertical-align: middle;\n",
       "    }\n",
       "\n",
       "    .dataframe tbody tr th {\n",
       "        vertical-align: top;\n",
       "    }\n",
       "\n",
       "    .dataframe thead th {\n",
       "        text-align: right;\n",
       "    }\n",
       "</style>\n",
       "<table border=\"1\" class=\"dataframe\">\n",
       "  <thead>\n",
       "    <tr style=\"text-align: right;\">\n",
       "      <th></th>\n",
       "      <th>group</th>\n",
       "      <th>Impressions</th>\n",
       "      <th>Inviews</th>\n",
       "      <th>Fixations</th>\n",
       "      <th>Fixation/Inview Ratio</th>\n",
       "      <th>Average Fixation Duration</th>\n",
       "      <th>Total Fixation Duration</th>\n",
       "    </tr>\n",
       "  </thead>\n",
       "  <tbody>\n",
       "    <tr>\n",
       "      <th>0</th>\n",
       "      <td>1</td>\n",
       "      <td>1187539.0</td>\n",
       "      <td>883384.0</td>\n",
       "      <td>298077.0</td>\n",
       "      <td>29.53</td>\n",
       "      <td>NaN</td>\n",
       "      <td>NaN</td>\n",
       "    </tr>\n",
       "  </tbody>\n",
       "</table>\n",
       "</div>"
      ],
      "text/plain": [
       "   group  Impressions   Inviews  Fixations  Fixation/Inview Ratio  \\\n",
       "0      1    1187539.0  883384.0   298077.0                  29.53   \n",
       "\n",
       "   Average Fixation Duration  Total Fixation Duration  \n",
       "0                        NaN                      NaN  "
      ]
     },
     "execution_count": 4,
     "metadata": {},
     "output_type": "execute_result"
    }
   ],
   "source": [
    "final_df = df.groupby([\"group\"]).apply(\n",
    "    lambda x: pd.Series(\n",
    "        {\n",
    "            \"Impressions\": np.floor(np.average(x[\"Impressions\"], weights=x[\"Impressions\"])),\n",
    "            \"Inviews\": np.floor(np.average(x[\"Inviews\"], weights=x[\"Inviews\"])),\n",
    "            \"Fixations\": np.floor(np.average(x[\"Fixations\"], weights=x[\"Fixations\"])),\n",
    "            \"Fixation/Inview Ratio\": round(np.average(x[\"Fixation/Inview Ratio\"], weights=x[\"Impressions\"]), 2),\n",
    "            \"Average Fixation Duration\": np.floor(np.average(x[\"Average Fixation Duration\"], weights=x[\"Fixations\"])),\n",
    "            \"Total Fixation Duration\": np.floor(np.average(x[\"Average Fixation Duration\"], weights=x[\"Fixations\"]) *  np.floor(np.average(x[\"Fixations\"], weights=x[\"Fixations\"])))\n",
    "        }\n",
    "    )\n",
    ")\n",
    "final_df = final_df.reset_index()\n",
    "final_df"
   ]
  },
  {
   "cell_type": "code",
   "execution_count": 5,
   "id": "ca3592fe",
   "metadata": {},
   "outputs": [],
   "source": [
    "final_df = final_df[[\"Impressions\", \"Inviews\", \"Fixations\", \"Fixation/Inview Ratio\", \"Average Fixation Duration\", \"Total Fixation Duration\"]]\n",
    "\n",
    "final_df.to_excel(f\"./{client}_results_consolidated.xlsx\", index=False)"
   ]
  }
 ],
 "metadata": {
  "kernelspec": {
   "display_name": "Python 3 (ipykernel)",
   "language": "python",
   "name": "python3"
  },
  "language_info": {
   "codemirror_mode": {
    "name": "ipython",
    "version": 3
   },
   "file_extension": ".py",
   "mimetype": "text/x-python",
   "name": "python",
   "nbconvert_exporter": "python",
   "pygments_lexer": "ipython3",
   "version": "3.10.12"
  }
 },
 "nbformat": 4,
 "nbformat_minor": 5
}
