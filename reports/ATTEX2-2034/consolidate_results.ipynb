{
 "cells": [
  {
   "cell_type": "code",
   "execution_count": 6,
   "id": "3b9901fb",
   "metadata": {},
   "outputs": [],
   "source": [
    "import pandas as pd\n",
    "import numpy as np"
   ]
  },
  {
   "cell_type": "code",
   "execution_count": 7,
   "id": "13e738d3",
   "metadata": {},
   "outputs": [],
   "source": [
    "client = \"servicefinder\"\n",
    "df = pd.read_excel(f\"./{client}_results.xlsx\")\n",
    "df"
   ]
  },
  {
   "cell_type": "code",
   "execution_count": 8,
   "id": "98356589",
   "metadata": {},
   "outputs": [],
   "source": [
    "df = df[df[\"Sample Size\"].isin([\"high\", \"medium\"])]\n",
    "df[\"group\"] = 1"
   ]
  },
  {
   "cell_type": "code",
   "execution_count": 9,
   "id": "114f1383",
   "metadata": {},
   "outputs": [],
   "source": [
    "final_df = df.groupby([\"group\"]).apply(\n",
    "    lambda x: pd.Series(\n",
    "        {\n",
    "            \"Impressions\": np.floor(np.average(x[\"Impressions\"], weights=x[\"Impressions\"])),\n",
    "            \"Inviews\": np.floor(np.average(x[\"Inviews\"], weights=x[\"Inviews\"])),\n",
    "            \"Fixations\": np.floor(np.average(x[\"Fixations\"], weights=x[\"Fixations\"])),\n",
    "            \"Fixation/Inview Ratio\": round(np.average(x[\"Fixation/Inview Ratio\"], weights=x[\"Impressions\"]), 2),\n",
    "            \"Average Fixation Duration\": np.floor(np.average(x[\"Average Fixation Duration\"], weights=x[\"Fixations\"])),\n",
    "            \"Total Fixation Duration\": np.floor(np.average(x[\"Average Fixation Duration\"], weights=x[\"Fixations\"]) *  np.floor(np.average(x[\"Fixations\"], weights=x[\"Fixations\"])))\n",
    "        }\n",
    "    )\n",
    ")\n",
    "final_df = final_df.reset_index()\n",
    "final_df"
   ]
  },
  {
   "cell_type": "code",
   "execution_count": 10,
   "id": "ca3592fe",
   "metadata": {},
   "outputs": [],
   "source": [
    "final_df = final_df[[\"Impressions\", \"Inviews\", \"Fixations\", \"Fixation/Inview Ratio\", \"Average Fixation Duration\", \"Total Fixation Duration\"]]\n",
    "\n",
    "final_df.to_excel(f\"./{client}_results_consolidated.xlsx\", index=False)"
   ]
  }
 ],
 "metadata": {
  "kernelspec": {
   "display_name": "Python 3 (ipykernel)",
   "language": "python",
   "name": "python3"
  },
  "language_info": {
   "codemirror_mode": {
    "name": "ipython",
    "version": 3
   },
   "file_extension": ".py",
   "mimetype": "text/x-python",
   "name": "python",
   "nbconvert_exporter": "python",
   "pygments_lexer": "ipython3",
   "version": "3.10.12"
  }
 },
 "nbformat": 4,
 "nbformat_minor": 5
}
